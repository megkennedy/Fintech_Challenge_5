{
 "cells": [
  {
   "cell_type": "markdown",
   "metadata": {
    "tags": []
   },
   "source": [
    "# Financial Planning with APIs and Simulations\n",
    "\n",
    "In this Challenge, you’ll create two financial analysis tools by using a single Jupyter notebook:\n",
    "\n",
    "Part 1: A financial planner for emergencies. The members will be able to use this tool to visualize their current savings. The members can then determine if they have enough reserves for an emergency fund.\n",
    "\n",
    "Part 2: A financial planner for retirement. This tool will forecast the performance of their retirement portfolio in 30 years. To do this, the tool will make an Alpaca API call via the Alpaca SDK to get historical price data for use in Monte Carlo simulations.\n",
    "\n",
    "You’ll use the information from the Monte Carlo simulation to answer questions about the portfolio in your Jupyter notebook.\n",
    "\n"
   ]
  },
  {
   "cell_type": "code",
   "execution_count": 1,
   "metadata": {},
   "outputs": [],
   "source": [
    "# Import the required libraries and dependencies\n",
    "import os\n",
    "import requests\n",
    "import json\n",
    "import pandas as pd\n",
    "from dotenv import load_dotenv\n",
    "import alpaca_trade_api as tradeapi\n",
    "from MCForecastTools import MCSimulation\n",
    "\n",
    "%matplotlib inline"
   ]
  },
  {
   "cell_type": "code",
   "execution_count": 2,
   "metadata": {},
   "outputs": [
    {
     "data": {
      "text/plain": [
       "True"
      ]
     },
     "execution_count": 2,
     "metadata": {},
     "output_type": "execute_result"
    }
   ],
   "source": [
    "# Load the environment variables from the .env file\n",
    "#by calling the load_dotenv function\n",
    "load_dotenv()"
   ]
  },
  {
   "cell_type": "markdown",
   "metadata": {},
   "source": [
    "## Part 1: Create a Financial Planner for Emergencies"
   ]
  },
  {
   "cell_type": "markdown",
   "metadata": {},
   "source": [
    "### Evaluate the Cryptocurrency Wallet by Using the Requests Library\n",
    "\n",
    "In this section, you’ll determine the current value of a member’s cryptocurrency wallet. You’ll collect the current prices for the Bitcoin and Ethereum cryptocurrencies by using the Python Requests library. For the prototype, you’ll assume that the member holds the 1.2 Bitcoins (BTC) and 5.3 Ethereum coins (ETH). To do all this, complete the following steps:\n",
    "\n",
    "1. Create a variable named `monthly_income`, and set its value to `12000`.\n",
    "\n",
    "2. Use the Requests library to get the current price (in US dollars) of Bitcoin (BTC) and Ethereum (ETH) by using the API endpoints that the starter code supplies.\n",
    "\n",
    "3. Navigate the JSON response object to access the current price of each coin, and store each in a variable.\n",
    "\n",
    "    > **Hint** Note the specific identifier for each cryptocurrency in the API JSON response. The Bitcoin identifier is `1`, and the Ethereum identifier is `1027`.\n",
    "\n",
    "4. Calculate the value, in US dollars, of the current amount of each cryptocurrency and of the entire cryptocurrency wallet.\n",
    "\n"
   ]
  },
  {
   "cell_type": "code",
   "execution_count": 3,
   "metadata": {},
   "outputs": [],
   "source": [
    "# The current number of coins for each cryptocurrency asset held in the portfolio.\n",
    "btc_coins = 1.2\n",
    "eth_coins = 5.3"
   ]
  },
  {
   "cell_type": "markdown",
   "metadata": {},
   "source": [
    "#### Step 1: Create a variable named `monthly_income`, and set its value to `12000`."
   ]
  },
  {
   "cell_type": "code",
   "execution_count": 4,
   "metadata": {},
   "outputs": [],
   "source": [
    "# The monthly amount for the member's household income\n",
    "monthly_income=12000\n"
   ]
  },
  {
   "cell_type": "markdown",
   "metadata": {},
   "source": [
    "#### Review the endpoint URLs for the API calls to Free Crypto API in order to get the current pricing information for both BTC and ETH."
   ]
  },
  {
   "cell_type": "code",
   "execution_count": 5,
   "metadata": {},
   "outputs": [],
   "source": [
    "# The Free Crypto API Call endpoint URLs for the held cryptocurrency assets\n",
    "btc_url = \"https://api.alternative.me/v2/ticker/Bitcoin/?convert=USD\"\n",
    "eth_url = \"https://api.alternative.me/v2/ticker/Ethereum/?convert=USD\""
   ]
  },
  {
   "cell_type": "markdown",
   "metadata": {},
   "source": [
    "#### Step 2. Use the Requests library to get the current price (in US dollars) of Bitcoin (BTC) and Ethereum (ETH) by using the API endpoints that the starter code supplied."
   ]
  },
  {
   "cell_type": "code",
   "execution_count": 6,
   "metadata": {},
   "outputs": [
    {
     "name": "stdout",
     "output_type": "stream",
     "text": [
      "{\n",
      "    \"data\": {\n",
      "        \"1\": {\n",
      "            \"circulating_supply\": 18827293,\n",
      "            \"id\": 1,\n",
      "            \"last_updated\": 1632712182,\n",
      "            \"max_supply\": 21000000,\n",
      "            \"name\": \"Bitcoin\",\n",
      "            \"quotes\": {\n",
      "                \"USD\": {\n",
      "                    \"market_cap\": 833692072370,\n",
      "                    \"percent_change_1h\": -0.105877725066794,\n",
      "                    \"percent_change_24h\": 5.12271496981641,\n",
      "                    \"percent_change_7d\": -6.45410236424974,\n",
      "                    \"percentage_change_1h\": -0.105877725066794,\n",
      "                    \"percentage_change_24h\": 5.12271496981641,\n",
      "                    \"percentage_change_7d\": -6.45410236424974,\n",
      "                    \"price\": 44314.0,\n",
      "                    \"volume_24h\": 32178657112\n",
      "                }\n",
      "            },\n",
      "            \"rank\": 1,\n",
      "            \"symbol\": \"BTC\",\n",
      "            \"total_supply\": 18827293,\n",
      "            \"website_slug\": \"bitcoin\"\n",
      "        }\n",
      "    },\n",
      "    \"metadata\": {\n",
      "        \"error\": null,\n",
      "        \"num_cryptocurrencies\": 3105,\n",
      "        \"timestamp\": 1632712182\n",
      "    }\n",
      "}\n"
     ]
    }
   ],
   "source": [
    "# Using the Python requests library, make an API call to access the current price of BTC\n",
    "btc_response = requests.get(btc_url).json()\n",
    "\n",
    "# Use the json.dumps function to review the response data from the API call\n",
    "# Use the indent and sort_keys parameters to make the response object readable\n",
    "print(json.dumps(btc_response, indent=4, sort_keys=True))\n"
   ]
  },
  {
   "cell_type": "code",
   "execution_count": 7,
   "metadata": {},
   "outputs": [
    {
     "name": "stdout",
     "output_type": "stream",
     "text": [
      "{\n",
      "    \"data\": {\n",
      "        \"1027\": {\n",
      "            \"circulating_supply\": 117690273,\n",
      "            \"id\": 1027,\n",
      "            \"last_updated\": 1632712195,\n",
      "            \"max_supply\": 0,\n",
      "            \"name\": \"Ethereum\",\n",
      "            \"quotes\": {\n",
      "                \"USD\": {\n",
      "                    \"market_cap\": 370740961233,\n",
      "                    \"percent_change_1h\": -0.488115864448105,\n",
      "                    \"percent_change_24h\": 9.91125389445106,\n",
      "                    \"percent_change_7d\": -5.54542620017705,\n",
      "                    \"percentage_change_1h\": -0.488115864448105,\n",
      "                    \"percentage_change_24h\": 9.91125389445106,\n",
      "                    \"percentage_change_7d\": -5.54542620017705,\n",
      "                    \"price\": 3150.9,\n",
      "                    \"volume_24h\": 25876430683\n",
      "                }\n",
      "            },\n",
      "            \"rank\": 2,\n",
      "            \"symbol\": \"ETH\",\n",
      "            \"total_supply\": 117690273,\n",
      "            \"website_slug\": \"ethereum\"\n",
      "        }\n",
      "    },\n",
      "    \"metadata\": {\n",
      "        \"error\": null,\n",
      "        \"num_cryptocurrencies\": 3105,\n",
      "        \"timestamp\": 1632712195\n",
      "    }\n",
      "}\n"
     ]
    }
   ],
   "source": [
    "# Using the Python requests library, make an API call to access the current price ETH\n",
    "eth_response = requests.get(eth_url).json()\n",
    "\n",
    "# Use the json.dumps function to review the response data from the API call\n",
    "# Use the indent and sort_keys parameters to make the response object readable\n",
    "print(json.dumps(eth_response, indent=4, sort_keys=True))\n"
   ]
  },
  {
   "cell_type": "markdown",
   "metadata": {},
   "source": [
    "#### Step 3: Navigate the JSON response object to access the current price of each coin, and store each in a variable."
   ]
  },
  {
   "cell_type": "code",
   "execution_count": 8,
   "metadata": {},
   "outputs": [
    {
     "data": {
      "text/plain": [
       "44314.0"
      ]
     },
     "execution_count": 8,
     "metadata": {},
     "output_type": "execute_result"
    }
   ],
   "source": [
    "# Navigate the BTC response object to access the current price of BTC\n",
    "btc_price = btc_response['data']['1']['quotes']['USD']['price']\n",
    "\n",
    "# Print the current price of BTC\n",
    "btc_price\n"
   ]
  },
  {
   "cell_type": "code",
   "execution_count": 9,
   "metadata": {},
   "outputs": [
    {
     "data": {
      "text/plain": [
       "3150.9"
      ]
     },
     "execution_count": 9,
     "metadata": {},
     "output_type": "execute_result"
    }
   ],
   "source": [
    "# Navigate the BTC response object to access the current price of ETH\n",
    "eth_price = eth_response['data']['1027']['quotes']['USD']['price']\n",
    "\n",
    "# Print the current price of ETH\n",
    "eth_price"
   ]
  },
  {
   "cell_type": "markdown",
   "metadata": {},
   "source": [
    "### Step 4: Calculate the value, in US dollars, of the current amount of each cryptocurrency and of the entire cryptocurrency wallet."
   ]
  },
  {
   "cell_type": "code",
   "execution_count": 10,
   "metadata": {},
   "outputs": [
    {
     "data": {
      "text/plain": [
       "53176.799999999996"
      ]
     },
     "execution_count": 10,
     "metadata": {},
     "output_type": "execute_result"
    }
   ],
   "source": [
    "# Compute the current value of the BTC holding \n",
    "btc_value = btc_coins * btc_price\n",
    "\n",
    "# Print current value of your holding in BTC\n",
    "btc_value\n"
   ]
  },
  {
   "cell_type": "code",
   "execution_count": 11,
   "metadata": {},
   "outputs": [
    {
     "data": {
      "text/plain": [
       "16699.77"
      ]
     },
     "execution_count": 11,
     "metadata": {},
     "output_type": "execute_result"
    }
   ],
   "source": [
    "# Compute the current value of the ETH holding \n",
    "eth_value = eth_coins * eth_price\n",
    "\n",
    "# Print current value of your holding in ETH\n",
    "eth_value\n"
   ]
  },
  {
   "cell_type": "code",
   "execution_count": 12,
   "metadata": {},
   "outputs": [
    {
     "data": {
      "text/plain": [
       "69876.56999999999"
      ]
     },
     "execution_count": 12,
     "metadata": {},
     "output_type": "execute_result"
    }
   ],
   "source": [
    "# Compute the total value of the cryptocurrency wallet\n",
    "# Add the value of the BTC holding to the value of the ETH holding\n",
    "total_crypto_wallet = btc_value + eth_value\n",
    "\n",
    "# Print current cryptocurrency wallet balance\n",
    "total_crypto_wallet\n"
   ]
  },
  {
   "cell_type": "markdown",
   "metadata": {},
   "source": [
    "### Evaluate the Stock and Bond Holdings by Using the Alpaca SDK\n",
    "\n",
    "In this section, you’ll determine the current value of a member’s stock and bond holdings. You’ll make an API call to Alpaca via the Alpaca SDK to get the current closing prices of the SPDR S&P 500 ETF Trust (ticker: SPY) and of the iShares Core US Aggregate Bond ETF (ticker: AGG). For the prototype, assume that the member holds 110 shares of SPY, which represents the stock portion of their portfolio, and 200 shares of AGG, which represents the bond portion. To do all this, complete the following steps:\n",
    "\n",
    "1. In the `Starter_Code` folder, create an environment file (`.env`) to store the values of your Alpaca API key and Alpaca secret key.\n",
    "\n",
    "2. Set the variables for the Alpaca API and secret keys. Using the Alpaca SDK, create the Alpaca `tradeapi.REST` object. In this object, include the parameters for the Alpaca API key, the secret key, and the version number.\n",
    "\n",
    "3. Set the following parameters for the Alpaca API call:\n",
    "\n",
    "    - `tickers`: Use the tickers for the member’s stock and bond holdings.\n",
    "\n",
    "    - `timeframe`: Use a time frame of one day.\n",
    "\n",
    "    - `start_date` and `end_date`: Use the same date for these parameters, and format them with the date of the previous weekday (or `2020-08-07`). This is because you want the one closing price for the most-recent trading day.\n",
    "\n",
    "4. Get the current closing prices for `SPY` and `AGG` by using the Alpaca `get_barset` function. Format the response as a Pandas DataFrame by including the `df` property at the end of the `get_barset` function.\n",
    "\n",
    "5. Navigating the Alpaca response DataFrame, select the `SPY` and `AGG` closing prices, and store them as variables.\n",
    "\n",
    "6. Calculate the value, in US dollars, of the current amount of shares in each of the stock and bond portions of the portfolio, and print the results.\n"
   ]
  },
  {
   "cell_type": "markdown",
   "metadata": {},
   "source": [
    "#### Review the total number of shares held in both (SPY) and (AGG)."
   ]
  },
  {
   "cell_type": "code",
   "execution_count": 13,
   "metadata": {},
   "outputs": [],
   "source": [
    "# Current amount of shares held in both the stock (SPY) and bond (AGG) portion of the portfolio.\n",
    "spy_shares = 110\n",
    "agg_shares = 200\n"
   ]
  },
  {
   "cell_type": "markdown",
   "metadata": {},
   "source": [
    "#### Step 1: In the `Starter_Code` folder, create an environment file (`.env`) to store the values of your Alpaca API key and Alpaca secret key."
   ]
  },
  {
   "cell_type": "markdown",
   "metadata": {},
   "source": [
    "#### Step 2: Set the variables for the Alpaca API and secret keys. Using the Alpaca SDK, create the Alpaca `tradeapi.REST` object. In this object, include the parameters for the Alpaca API key, the secret key, and the version number."
   ]
  },
  {
   "cell_type": "code",
   "execution_count": 14,
   "metadata": {},
   "outputs": [],
   "source": [
    "# Set the variables for the Alpaca API and secret keys\n",
    "alpaca_api_key = os.getenv(\"ALPACA_API_KEY\")\n",
    "alpaca_secret_key = os.getenv(\"ALPACA_SECRET_KEY\")\n",
    "\n",
    "# Create the Alpaca tradeapi.REST object\n",
    "alpaca=tradeapi.REST(alpaca_api_key, alpaca_secret_key, api_version=\"v2\")"
   ]
  },
  {
   "cell_type": "markdown",
   "metadata": {},
   "source": [
    "#### Step 3: Set the following parameters for the Alpaca API call:\n",
    "\n",
    "- `tickers`: Use the tickers for the member’s stock and bond holdings.\n",
    "\n",
    "- `timeframe`: Use a time frame of one day.\n",
    "\n",
    "- `start_date` and `end_date`: Use the same date for these parameters, and format them with the date of the previous weekday (or `2020-08-07`). This is because you want the one closing price for the most-recent trading day.\n"
   ]
  },
  {
   "cell_type": "code",
   "execution_count": 15,
   "metadata": {},
   "outputs": [],
   "source": [
    "# Set the tickers for both the bond and stock portion of the portfolio\n",
    "tickers=[\"SPY\", \"AGG\"]\n",
    "\n",
    "# Set timeframe to 1D \n",
    "timeframe = \"1D\"\n",
    "\n",
    "# Format current date as ISO format\n",
    "# Set both the start and end date at the date of your prior weekday \n",
    "# This will give you the closing price of the previous trading day\n",
    "# Alternatively you can use a start and end date of 2020-08-07\n",
    "start_date = pd.Timestamp(\"2021-09-24\", tz=\"America/New_York\").isoformat()\n",
    "end_date = pd.Timestamp(\"2021-09-24\", tz=\"America/New_York\").isoformat()\n"
   ]
  },
  {
   "cell_type": "markdown",
   "metadata": {},
   "source": [
    "#### Step 4: Get the current closing prices for `SPY` and `AGG` by using the Alpaca `get_barset` function. Format the response as a Pandas DataFrame by including the `df` property at the end of the `get_barset` function."
   ]
  },
  {
   "cell_type": "code",
   "execution_count": 16,
   "metadata": {},
   "outputs": [
    {
     "data": {
      "text/html": [
       "<div>\n",
       "<style scoped>\n",
       "    .dataframe tbody tr th:only-of-type {\n",
       "        vertical-align: middle;\n",
       "    }\n",
       "\n",
       "    .dataframe tbody tr th {\n",
       "        vertical-align: top;\n",
       "    }\n",
       "\n",
       "    .dataframe thead tr th {\n",
       "        text-align: left;\n",
       "    }\n",
       "\n",
       "    .dataframe thead tr:last-of-type th {\n",
       "        text-align: right;\n",
       "    }\n",
       "</style>\n",
       "<table border=\"1\" class=\"dataframe\">\n",
       "  <thead>\n",
       "    <tr>\n",
       "      <th></th>\n",
       "      <th colspan=\"5\" halign=\"left\">AGG</th>\n",
       "      <th colspan=\"5\" halign=\"left\">SPY</th>\n",
       "    </tr>\n",
       "    <tr>\n",
       "      <th></th>\n",
       "      <th>open</th>\n",
       "      <th>high</th>\n",
       "      <th>low</th>\n",
       "      <th>close</th>\n",
       "      <th>volume</th>\n",
       "      <th>open</th>\n",
       "      <th>high</th>\n",
       "      <th>low</th>\n",
       "      <th>close</th>\n",
       "      <th>volume</th>\n",
       "    </tr>\n",
       "    <tr>\n",
       "      <th>time</th>\n",
       "      <th></th>\n",
       "      <th></th>\n",
       "      <th></th>\n",
       "      <th></th>\n",
       "      <th></th>\n",
       "      <th></th>\n",
       "      <th></th>\n",
       "      <th></th>\n",
       "      <th></th>\n",
       "      <th></th>\n",
       "    </tr>\n",
       "  </thead>\n",
       "  <tbody>\n",
       "    <tr>\n",
       "      <th>2021-09-24 00:00:00-04:00</th>\n",
       "      <td>115.5</td>\n",
       "      <td>115.5055</td>\n",
       "      <td>115.319</td>\n",
       "      <td>115.41</td>\n",
       "      <td>3388185</td>\n",
       "      <td>441.44</td>\n",
       "      <td>444.67</td>\n",
       "      <td>441.21</td>\n",
       "      <td>443.92</td>\n",
       "      <td>52199034</td>\n",
       "    </tr>\n",
       "  </tbody>\n",
       "</table>\n",
       "</div>"
      ],
      "text/plain": [
       "                             AGG                                         SPY  \\\n",
       "                            open      high      low   close   volume    open   \n",
       "time                                                                           \n",
       "2021-09-24 00:00:00-04:00  115.5  115.5055  115.319  115.41  3388185  441.44   \n",
       "\n",
       "                                                             \n",
       "                             high     low   close    volume  \n",
       "time                                                         \n",
       "2021-09-24 00:00:00-04:00  444.67  441.21  443.92  52199034  "
      ]
     },
     "execution_count": 16,
     "metadata": {},
     "output_type": "execute_result"
    }
   ],
   "source": [
    "# Use the Alpaca get_barset function to get current closing prices the portfolio\n",
    "# Be sure to set the `df` property after the function to format the response object as a DataFrame\n",
    "portfolio_df = alpaca.get_barset(\n",
    "    tickers,\n",
    "    timeframe,\n",
    "    start = start_date, \n",
    "    end = end_date).df\n",
    "\n",
    "# Review the first 5 rows of the Alpaca DataFrame\n",
    "portfolio_df.head()\n"
   ]
  },
  {
   "cell_type": "markdown",
   "metadata": {},
   "source": [
    "#### Step 5: Navigating the Alpaca response DataFrame, select the `SPY` and `AGG` closing prices, and store them as variables."
   ]
  },
  {
   "cell_type": "code",
   "execution_count": 17,
   "metadata": {},
   "outputs": [
    {
     "data": {
      "text/plain": [
       "115.41"
      ]
     },
     "execution_count": 17,
     "metadata": {},
     "output_type": "execute_result"
    }
   ],
   "source": [
    "# Access the closing price for AGG from the Alpaca DataFrame\n",
    "# Converting the value to a floating point number\n",
    "agg_close_price = float(portfolio_df[\"AGG\"][\"close\"])\n",
    "\n",
    "# Print the AGG closing price\n",
    "agg_close_price\n"
   ]
  },
  {
   "cell_type": "code",
   "execution_count": 18,
   "metadata": {},
   "outputs": [
    {
     "data": {
      "text/plain": [
       "443.92"
      ]
     },
     "execution_count": 18,
     "metadata": {},
     "output_type": "execute_result"
    }
   ],
   "source": [
    "# Access the closing price for SPY from the Alpaca DataFrame\n",
    "# Converting the value to a floating point number\n",
    "spy_close_price = float(portfolio_df[\"SPY\"][\"close\"])\n",
    "\n",
    "# Print the SPY closing price\n",
    "spy_close_price\n"
   ]
  },
  {
   "cell_type": "markdown",
   "metadata": {},
   "source": [
    "#### Step 6: Calculate the value, in US dollars, of the current amount of shares in each of the stock and bond portions of the portfolio, and print the results."
   ]
  },
  {
   "cell_type": "code",
   "execution_count": 19,
   "metadata": {},
   "outputs": [
    {
     "data": {
      "text/plain": [
       "23082.0"
      ]
     },
     "execution_count": 19,
     "metadata": {},
     "output_type": "execute_result"
    }
   ],
   "source": [
    "# Calculate the current value of the bond portion of the portfolio\n",
    "agg_value = agg_shares * agg_close_price\n",
    "\n",
    "# Print the current value of the bond portfolio\n",
    "agg_value\n"
   ]
  },
  {
   "cell_type": "code",
   "execution_count": 20,
   "metadata": {},
   "outputs": [
    {
     "data": {
      "text/plain": [
       "48831.200000000004"
      ]
     },
     "execution_count": 20,
     "metadata": {},
     "output_type": "execute_result"
    }
   ],
   "source": [
    "# Calculate the current value of the stock portion of the portfolio\n",
    "spy_value = spy_shares * spy_close_price\n",
    "\n",
    "# Print the current value of the stock portfolio\n",
    "spy_value\n"
   ]
  },
  {
   "cell_type": "code",
   "execution_count": 21,
   "metadata": {},
   "outputs": [
    {
     "data": {
      "text/plain": [
       "71913.20000000001"
      ]
     },
     "execution_count": 21,
     "metadata": {},
     "output_type": "execute_result"
    }
   ],
   "source": [
    "# Calculate the total value of the stock and bond portion of the portfolio\n",
    "total_stocks_bonds = agg_value + spy_value\n",
    "\n",
    "# Print the current balance of the stock and bond portion of the portfolio\n",
    "total_stocks_bonds\n"
   ]
  },
  {
   "cell_type": "code",
   "execution_count": 22,
   "metadata": {},
   "outputs": [
    {
     "data": {
      "text/plain": [
       "141789.77000000002"
      ]
     },
     "execution_count": 22,
     "metadata": {},
     "output_type": "execute_result"
    }
   ],
   "source": [
    "# Calculate the total value of the member's entire savings portfolio\n",
    "# Add the value of the cryptocurrency walled to the value of the total stocks and bonds\n",
    "total_portfolio = total_stocks_bonds + total_crypto_wallet\n",
    "\n",
    "# Print current portfolio balance\n",
    "total_portfolio\n"
   ]
  },
  {
   "cell_type": "markdown",
   "metadata": {},
   "source": [
    "### Evaluate the Emergency Fund\n",
    "\n",
    "In this section, you’ll use the valuations for the cryptocurrency wallet and for the stock and bond portions of the portfolio to determine if the credit union member has enough savings to build an emergency fund into their financial plan. To do this, complete the following steps:\n",
    "\n",
    "1. Create a Python list named `savings_data` that has two elements. The first element contains the total value of the cryptocurrency wallet. The second element contains the total value of the stock and bond portions of the portfolio.\n",
    "\n",
    "2. Use the `savings_data` list to create a Pandas DataFrame named `savings_df`, and then display this DataFrame. The function to create the DataFrame should take the following three parameters:\n",
    "\n",
    "    - `savings_data`: Use the list that you just created.\n",
    "\n",
    "    - `columns`: Set this parameter equal to a Python list with a single value called `amount`.\n",
    "\n",
    "    - `index`: Set this parameter equal to a Python list with the values of `crypto` and `stock/bond`.\n",
    "\n",
    "3. Use the `savings_df` DataFrame to plot a pie chart that visualizes the composition of the member’s portfolio. The y-axis of the pie chart uses `amount`. Be sure to add a title.\n",
    "\n",
    "4. Using Python, determine if the current portfolio has enough to create an emergency fund as part of the member’s financial plan. Ideally, an emergency fund should equal to three times the member’s monthly income. To do this, implement the following steps:\n",
    "\n",
    "    1. Create a variable named `emergency_fund_value`, and set it equal to three times the value of the member’s `monthly_income` of $12000. (You set this earlier in Part 1).\n",
    "\n",
    "    2. Create a series of three if statements to determine if the member’s total portfolio is large enough to fund the emergency portfolio:\n",
    "\n",
    "        1. If the total portfolio value is greater than the emergency fund value, display a message congratulating the member for having enough money in this fund.\n",
    "\n",
    "        2. Else if the total portfolio value is equal to the emergency fund value, display a message congratulating the member on reaching this important financial goal.\n",
    "\n",
    "        3. Else the total portfolio is less than the emergency fund value, so display a message showing how many dollars away the member is from reaching the goal. (Subtract the total portfolio value from the emergency fund value.)\n"
   ]
  },
  {
   "cell_type": "markdown",
   "metadata": {},
   "source": [
    "#### Step 1: Create a Python list named `savings_data` that has two elements. The first element contains the total value of the cryptocurrency wallet. The second element contains the total value of the stock and bond portions of the portfolio."
   ]
  },
  {
   "cell_type": "code",
   "execution_count": 23,
   "metadata": {},
   "outputs": [
    {
     "data": {
      "text/plain": [
       "[69876.56999999999, 71913.20000000001]"
      ]
     },
     "execution_count": 23,
     "metadata": {},
     "output_type": "execute_result"
    }
   ],
   "source": [
    "# Consolidate financial assets data into a Python list\n",
    "savings_data=[total_crypto_wallet, total_stocks_bonds]\n",
    "\n",
    "# Review the Python list savings_data\n",
    "savings_data\n",
    "    "
   ]
  },
  {
   "cell_type": "markdown",
   "metadata": {},
   "source": [
    "#### Step 2: Use the `savings_data` list to create a Pandas DataFrame named `savings_df`, and then display this DataFrame. The function to create the DataFrame should take the following three parameters:\n",
    "\n",
    "- `savings_data`: Use the list that you just created.\n",
    "\n",
    "- `columns`: Set this parameter equal to a Python list with a single value called `amount`.\n",
    "\n",
    "- `index`: Set this parameter equal to a Python list with the values of `crypto` and `stock/bond`.\n"
   ]
  },
  {
   "cell_type": "code",
   "execution_count": 24,
   "metadata": {},
   "outputs": [
    {
     "data": {
      "text/html": [
       "<div>\n",
       "<style scoped>\n",
       "    .dataframe tbody tr th:only-of-type {\n",
       "        vertical-align: middle;\n",
       "    }\n",
       "\n",
       "    .dataframe tbody tr th {\n",
       "        vertical-align: top;\n",
       "    }\n",
       "\n",
       "    .dataframe thead th {\n",
       "        text-align: right;\n",
       "    }\n",
       "</style>\n",
       "<table border=\"1\" class=\"dataframe\">\n",
       "  <thead>\n",
       "    <tr style=\"text-align: right;\">\n",
       "      <th></th>\n",
       "      <th>amount</th>\n",
       "    </tr>\n",
       "  </thead>\n",
       "  <tbody>\n",
       "    <tr>\n",
       "      <th>crypto</th>\n",
       "      <td>69876.57</td>\n",
       "    </tr>\n",
       "    <tr>\n",
       "      <th>stock/bond</th>\n",
       "      <td>71913.20</td>\n",
       "    </tr>\n",
       "  </tbody>\n",
       "</table>\n",
       "</div>"
      ],
      "text/plain": [
       "              amount\n",
       "crypto      69876.57\n",
       "stock/bond  71913.20"
      ]
     },
     "execution_count": 24,
     "metadata": {},
     "output_type": "execute_result"
    }
   ],
   "source": [
    "# Create a Pandas DataFrame called savings_df \n",
    "savings_df=pd.DataFrame(savings_data, columns=['amount'], index=['crypto', 'stock/bond'])\n",
    "\n",
    "# Display the savings_df DataFrame\n",
    "savings_df\n"
   ]
  },
  {
   "cell_type": "markdown",
   "metadata": {},
   "source": [
    "#### Step 3: Use the `savings_df` DataFrame to plot a pie chart that visualizes the composition of the member’s portfolio. The y-axis of the pie chart uses `amount`. Be sure to add a title."
   ]
  },
  {
   "cell_type": "code",
   "execution_count": 25,
   "metadata": {},
   "outputs": [
    {
     "data": {
      "text/plain": [
       "<AxesSubplot:title={'center':'Portfolio Composition'}, ylabel='amount'>"
      ]
     },
     "execution_count": 25,
     "metadata": {},
     "output_type": "execute_result"
    },
    {
     "data": {
      "image/png": "[encoded data removed]",
      "text/plain": [
       "<Figure size 720x360 with 1 Axes>"
      ]
     },
     "metadata": {},
     "output_type": "display_data"
    }
   ],
   "source": [
    "# Plot the total value of the member's portfolio (crypto and stock/bond) in a pie chart\n",
    "\n",
    "savings_df.plot.pie(y='amount', title='Portfolio Composition', figsize=(10,5))"
   ]
  },
  {
   "cell_type": "markdown",
   "metadata": {},
   "source": [
    "#### Step 4: Using Python, determine if the current portfolio has enough to create an emergency fund as part of the member’s financial plan. Ideally, an emergency fund should equal to three times the member’s monthly income. To do this, implement the following steps:\n",
    "\n",
    "Step 1. Create a variable named `emergency_fund_value`, and set it equal to three times the value of the member’s `monthly_income` of 12000. (You set this earlier in Part 1).\n",
    "\n",
    "Step 2. Create a series of three if statements to determine if the member’s total portfolio is large enough to fund the emergency portfolio:\n",
    "\n",
    "* If the total portfolio value is greater than the emergency fund value, display a message congratulating the member for having enough money in this fund.\n",
    "\n",
    "* Else if the total portfolio value is equal to the emergency fund value, display a message congratulating the member on reaching this important financial goal.\n",
    "\n",
    "* Else the total portfolio is less than the emergency fund value, so display a message showing how many dollars away the member is from reaching the goal. (Subtract the total portfolio value from the emergency fund value.)\n"
   ]
  },
  {
   "cell_type": "markdown",
   "metadata": {},
   "source": [
    "##### Step 4-1: Create a variable named `emergency_fund_value`, and set it equal to three times the value of the member’s `monthly_income` of 12000. (You set this earlier in Part 1)."
   ]
  },
  {
   "cell_type": "code",
   "execution_count": 26,
   "metadata": {},
   "outputs": [],
   "source": [
    "# Create a variable named emergency_fund_value\n",
    "emergency_fund_value=3*monthly_income\n"
   ]
  },
  {
   "cell_type": "markdown",
   "metadata": {},
   "source": [
    "##### Step 4-2: Create a series of three if statements to determine if the member’s total portfolio is large enough to fund the emergency portfolio:\n",
    "\n",
    "* If the total portfolio value is greater than the emergency fund value, display a message congratulating the member for having enough money in this fund.\n",
    "\n",
    "* Else if the total portfolio value is equal to the emergency fund value, display a message congratulating the member on reaching this important financial goal.\n",
    "\n",
    "* Else the total portfolio is less than the emergency fund value, so display a message showing how many dollars away the member is from reaching the goal. (Subtract the total portfolio value from the emergency fund value.)"
   ]
  },
  {
   "cell_type": "code",
   "execution_count": 27,
   "metadata": {},
   "outputs": [
    {
     "name": "stdout",
     "output_type": "stream",
     "text": [
      "Congratulations! You have enough money in your portfolio.\n"
     ]
    }
   ],
   "source": [
    "# Evaluate the possibility of creating an emergency fund with 3 conditions:\n",
    "if total_portfolio > emergency_fund_value:\n",
    "    print(\"Congratulations! You have enough money in your portfolio.\")\n",
    "elif total_portfolio == emergency_fund_value:\n",
    "    print(\"Congratulations! You have met your emergency fund goal.\")\n",
    "elif total_portfolio < emergency_fund_value:\n",
    "    print(f\"You are ${emergency_fund_value - total_portfolio} away from your goal\")\n"
   ]
  },
  {
   "cell_type": "markdown",
   "metadata": {},
   "source": [
    "## Part 2: Create a Financial Planner for Retirement"
   ]
  },
  {
   "cell_type": "markdown",
   "metadata": {},
   "source": [
    "### Create the Monte Carlo Simulation\n",
    "\n",
    "In this section, you’ll use the MCForecastTools library to create a Monte Carlo simulation for the member’s savings portfolio. To do this, complete the following steps:\n",
    "\n",
    "1. Make an API call via the Alpaca SDK to get 3 years of historical closing prices for a traditional 60/40 portfolio split: 60% stocks (SPY) and 40% bonds (AGG).\n",
    "\n",
    "2. Run a Monte Carlo simulation of 500 samples and 30 years for the 60/40 portfolio, and then plot the results.The following image shows the overlay line plot resulting from a simulation with these characteristics. However, because a random number generator is used to run each live Monte Carlo simulation, your image will differ slightly from this exact image:\n",
    "\n",
    "![A screenshot depicts the resulting plot.](Images/5-4-monte-carlo-line-plot.png)\n",
    "\n",
    "3. Plot the probability distribution of the Monte Carlo simulation. Plot the probability distribution of the Monte Carlo simulation. The following image shows the histogram plot resulting from a simulation with these characteristics. However, because a random number generator is used to run each live Monte Carlo simulation, your image will differ slightly from this exact image:\n",
    "\n",
    "![A screenshot depicts the histogram plot.](Images/5-4-monte-carlo-histogram.png)\n",
    "\n",
    "4. Generate the summary statistics for the Monte Carlo simulation.\n",
    "\n"
   ]
  },
  {
   "cell_type": "markdown",
   "metadata": {},
   "source": [
    "#### Step 1: Make an API call via the Alpaca SDK to get 3 years of historical closing prices for a traditional 60/40 portfolio split: 60% stocks (SPY) and 40% bonds (AGG)."
   ]
  },
  {
   "cell_type": "code",
   "execution_count": 28,
   "metadata": {},
   "outputs": [],
   "source": [
    "# Set start and end dates of 3 years back from your current date\n",
    "# Alternatively, you can use an end date of 2020-08-07 and work 3 years back from that date \n",
    "start_date = pd.Timestamp(\"2018-09-24\", tz=\"America/New_York\").isoformat()\n",
    "end_date = pd.Timestamp(\"2021-09-24\", tz=\"America/New_York\").isoformat()\n",
    "\n",
    "# Set number of rows to 1000 to retrieve the maximum amount of rows\n",
    "limit_rows = 1000"
   ]
  },
  {
   "cell_type": "code",
   "execution_count": 29,
   "metadata": {},
   "outputs": [
    {
     "data": {
      "text/html": [
       "<div>\n",
       "<style scoped>\n",
       "    .dataframe tbody tr th:only-of-type {\n",
       "        vertical-align: middle;\n",
       "    }\n",
       "\n",
       "    .dataframe tbody tr th {\n",
       "        vertical-align: top;\n",
       "    }\n",
       "\n",
       "    .dataframe thead tr th {\n",
       "        text-align: left;\n",
       "    }\n",
       "\n",
       "    .dataframe thead tr:last-of-type th {\n",
       "        text-align: right;\n",
       "    }\n",
       "</style>\n",
       "<table border=\"1\" class=\"dataframe\">\n",
       "  <thead>\n",
       "    <tr>\n",
       "      <th></th>\n",
       "      <th colspan=\"5\" halign=\"left\">AGG</th>\n",
       "      <th colspan=\"5\" halign=\"left\">SPY</th>\n",
       "    </tr>\n",
       "    <tr>\n",
       "      <th></th>\n",
       "      <th>open</th>\n",
       "      <th>high</th>\n",
       "      <th>low</th>\n",
       "      <th>close</th>\n",
       "      <th>volume</th>\n",
       "      <th>open</th>\n",
       "      <th>high</th>\n",
       "      <th>low</th>\n",
       "      <th>close</th>\n",
       "      <th>volume</th>\n",
       "    </tr>\n",
       "    <tr>\n",
       "      <th>time</th>\n",
       "      <th></th>\n",
       "      <th></th>\n",
       "      <th></th>\n",
       "      <th></th>\n",
       "      <th></th>\n",
       "      <th></th>\n",
       "      <th></th>\n",
       "      <th></th>\n",
       "      <th></th>\n",
       "      <th></th>\n",
       "    </tr>\n",
       "  </thead>\n",
       "  <tbody>\n",
       "    <tr>\n",
       "      <th>2018-09-24 00:00:00-04:00</th>\n",
       "      <td>105.33</td>\n",
       "      <td>105.46</td>\n",
       "      <td>105.3101</td>\n",
       "      <td>105.350</td>\n",
       "      <td>1771301.0</td>\n",
       "      <td>291.34</td>\n",
       "      <td>291.50</td>\n",
       "      <td>290.3700</td>\n",
       "      <td>291.07</td>\n",
       "      <td>37585070</td>\n",
       "    </tr>\n",
       "    <tr>\n",
       "      <th>2018-09-25 00:00:00-04:00</th>\n",
       "      <td>105.25</td>\n",
       "      <td>105.30</td>\n",
       "      <td>105.1800</td>\n",
       "      <td>105.290</td>\n",
       "      <td>1863777.0</td>\n",
       "      <td>291.53</td>\n",
       "      <td>291.65</td>\n",
       "      <td>290.4833</td>\n",
       "      <td>290.70</td>\n",
       "      <td>30128907</td>\n",
       "    </tr>\n",
       "    <tr>\n",
       "      <th>2018-09-26 00:00:00-04:00</th>\n",
       "      <td>105.37</td>\n",
       "      <td>105.60</td>\n",
       "      <td>105.3350</td>\n",
       "      <td>105.560</td>\n",
       "      <td>2626493.0</td>\n",
       "      <td>290.92</td>\n",
       "      <td>292.24</td>\n",
       "      <td>289.4100</td>\n",
       "      <td>289.84</td>\n",
       "      <td>53536102</td>\n",
       "    </tr>\n",
       "    <tr>\n",
       "      <th>2018-09-27 00:00:00-04:00</th>\n",
       "      <td>105.50</td>\n",
       "      <td>105.64</td>\n",
       "      <td>105.5000</td>\n",
       "      <td>105.625</td>\n",
       "      <td>2252805.0</td>\n",
       "      <td>290.44</td>\n",
       "      <td>291.91</td>\n",
       "      <td>290.1000</td>\n",
       "      <td>290.65</td>\n",
       "      <td>42099964</td>\n",
       "    </tr>\n",
       "    <tr>\n",
       "      <th>2018-09-28 00:00:00-04:00</th>\n",
       "      <td>105.69</td>\n",
       "      <td>105.71</td>\n",
       "      <td>105.5100</td>\n",
       "      <td>105.520</td>\n",
       "      <td>3859908.0</td>\n",
       "      <td>289.99</td>\n",
       "      <td>291.28</td>\n",
       "      <td>289.9500</td>\n",
       "      <td>290.61</td>\n",
       "      <td>49399177</td>\n",
       "    </tr>\n",
       "  </tbody>\n",
       "</table>\n",
       "</div>"
      ],
      "text/plain": [
       "                              AGG                                        \\\n",
       "                             open    high       low    close     volume   \n",
       "time                                                                      \n",
       "2018-09-24 00:00:00-04:00  105.33  105.46  105.3101  105.350  1771301.0   \n",
       "2018-09-25 00:00:00-04:00  105.25  105.30  105.1800  105.290  1863777.0   \n",
       "2018-09-26 00:00:00-04:00  105.37  105.60  105.3350  105.560  2626493.0   \n",
       "2018-09-27 00:00:00-04:00  105.50  105.64  105.5000  105.625  2252805.0   \n",
       "2018-09-28 00:00:00-04:00  105.69  105.71  105.5100  105.520  3859908.0   \n",
       "\n",
       "                              SPY                                      \n",
       "                             open    high       low   close    volume  \n",
       "time                                                                   \n",
       "2018-09-24 00:00:00-04:00  291.34  291.50  290.3700  291.07  37585070  \n",
       "2018-09-25 00:00:00-04:00  291.53  291.65  290.4833  290.70  30128907  \n",
       "2018-09-26 00:00:00-04:00  290.92  292.24  289.4100  289.84  53536102  \n",
       "2018-09-27 00:00:00-04:00  290.44  291.91  290.1000  290.65  42099964  \n",
       "2018-09-28 00:00:00-04:00  289.99  291.28  289.9500  290.61  49399177  "
      ]
     },
     "metadata": {},
     "output_type": "display_data"
    },
    {
     "data": {
      "text/html": [
       "<div>\n",
       "<style scoped>\n",
       "    .dataframe tbody tr th:only-of-type {\n",
       "        vertical-align: middle;\n",
       "    }\n",
       "\n",
       "    .dataframe tbody tr th {\n",
       "        vertical-align: top;\n",
       "    }\n",
       "\n",
       "    .dataframe thead tr th {\n",
       "        text-align: left;\n",
       "    }\n",
       "\n",
       "    .dataframe thead tr:last-of-type th {\n",
       "        text-align: right;\n",
       "    }\n",
       "</style>\n",
       "<table border=\"1\" class=\"dataframe\">\n",
       "  <thead>\n",
       "    <tr>\n",
       "      <th></th>\n",
       "      <th colspan=\"5\" halign=\"left\">AGG</th>\n",
       "      <th colspan=\"5\" halign=\"left\">SPY</th>\n",
       "    </tr>\n",
       "    <tr>\n",
       "      <th></th>\n",
       "      <th>open</th>\n",
       "      <th>high</th>\n",
       "      <th>low</th>\n",
       "      <th>close</th>\n",
       "      <th>volume</th>\n",
       "      <th>open</th>\n",
       "      <th>high</th>\n",
       "      <th>low</th>\n",
       "      <th>close</th>\n",
       "      <th>volume</th>\n",
       "    </tr>\n",
       "    <tr>\n",
       "      <th>time</th>\n",
       "      <th></th>\n",
       "      <th></th>\n",
       "      <th></th>\n",
       "      <th></th>\n",
       "      <th></th>\n",
       "      <th></th>\n",
       "      <th></th>\n",
       "      <th></th>\n",
       "      <th></th>\n",
       "      <th></th>\n",
       "    </tr>\n",
       "  </thead>\n",
       "  <tbody>\n",
       "    <tr>\n",
       "      <th>2021-09-20 00:00:00-04:00</th>\n",
       "      <td>116.02</td>\n",
       "      <td>116.1700</td>\n",
       "      <td>115.975</td>\n",
       "      <td>116.120</td>\n",
       "      <td>4463038.0</td>\n",
       "      <td>434.88</td>\n",
       "      <td>436.56</td>\n",
       "      <td>428.860</td>\n",
       "      <td>434.07</td>\n",
       "      <td>149948277</td>\n",
       "    </tr>\n",
       "    <tr>\n",
       "      <th>2021-09-21 00:00:00-04:00</th>\n",
       "      <td>116.13</td>\n",
       "      <td>116.1700</td>\n",
       "      <td>116.045</td>\n",
       "      <td>116.135</td>\n",
       "      <td>4455403.0</td>\n",
       "      <td>436.53</td>\n",
       "      <td>437.91</td>\n",
       "      <td>433.070</td>\n",
       "      <td>433.67</td>\n",
       "      <td>82418070</td>\n",
       "    </tr>\n",
       "    <tr>\n",
       "      <th>2021-09-22 00:00:00-04:00</th>\n",
       "      <td>116.11</td>\n",
       "      <td>116.2500</td>\n",
       "      <td>116.005</td>\n",
       "      <td>116.190</td>\n",
       "      <td>6079965.0</td>\n",
       "      <td>436.05</td>\n",
       "      <td>440.03</td>\n",
       "      <td>433.747</td>\n",
       "      <td>437.83</td>\n",
       "      <td>91135278</td>\n",
       "    </tr>\n",
       "    <tr>\n",
       "      <th>2021-09-23 00:00:00-04:00</th>\n",
       "      <td>115.93</td>\n",
       "      <td>115.9400</td>\n",
       "      <td>115.570</td>\n",
       "      <td>115.570</td>\n",
       "      <td>7516613.0</td>\n",
       "      <td>439.84</td>\n",
       "      <td>444.89</td>\n",
       "      <td>439.600</td>\n",
       "      <td>443.13</td>\n",
       "      <td>67408294</td>\n",
       "    </tr>\n",
       "    <tr>\n",
       "      <th>2021-09-24 00:00:00-04:00</th>\n",
       "      <td>115.50</td>\n",
       "      <td>115.5055</td>\n",
       "      <td>115.319</td>\n",
       "      <td>115.410</td>\n",
       "      <td>3388185.0</td>\n",
       "      <td>441.44</td>\n",
       "      <td>444.67</td>\n",
       "      <td>441.210</td>\n",
       "      <td>443.92</td>\n",
       "      <td>52199034</td>\n",
       "    </tr>\n",
       "  </tbody>\n",
       "</table>\n",
       "</div>"
      ],
      "text/plain": [
       "                              AGG                                         \\\n",
       "                             open      high      low    close     volume   \n",
       "time                                                                       \n",
       "2021-09-20 00:00:00-04:00  116.02  116.1700  115.975  116.120  4463038.0   \n",
       "2021-09-21 00:00:00-04:00  116.13  116.1700  116.045  116.135  4455403.0   \n",
       "2021-09-22 00:00:00-04:00  116.11  116.2500  116.005  116.190  6079965.0   \n",
       "2021-09-23 00:00:00-04:00  115.93  115.9400  115.570  115.570  7516613.0   \n",
       "2021-09-24 00:00:00-04:00  115.50  115.5055  115.319  115.410  3388185.0   \n",
       "\n",
       "                              SPY                                      \n",
       "                             open    high      low   close     volume  \n",
       "time                                                                   \n",
       "2021-09-20 00:00:00-04:00  434.88  436.56  428.860  434.07  149948277  \n",
       "2021-09-21 00:00:00-04:00  436.53  437.91  433.070  433.67   82418070  \n",
       "2021-09-22 00:00:00-04:00  436.05  440.03  433.747  437.83   91135278  \n",
       "2021-09-23 00:00:00-04:00  439.84  444.89  439.600  443.13   67408294  \n",
       "2021-09-24 00:00:00-04:00  441.44  444.67  441.210  443.92   52199034  "
      ]
     },
     "metadata": {},
     "output_type": "display_data"
    }
   ],
   "source": [
    "# Use the Alpaca get_barset function to make the API call to get the 3 years worth of pricing data\n",
    "# The tickers and timeframe parameters should have been set in Part 1 of this activity \n",
    "# The start and end dates should be updated with the information set above\n",
    "# Remember to add the df property to the end of the call so the response is returned as a DataFrame\n",
    "prices_df = alpaca.get_barset(\n",
    "    tickers,\n",
    "    timeframe,\n",
    "    start=start_date,\n",
    "    end=end_date,\n",
    "    limit=limit_rows).df\n",
    "\n",
    "\n",
    "# Display both the first and last five rows of the DataFrame\n",
    "display(prices_df.head())\n",
    "display(prices_df.tail())\n"
   ]
  },
  {
   "cell_type": "markdown",
   "metadata": {},
   "source": [
    "#### Step 2: Run a Monte Carlo simulation of 500 samples and 30 years for the 60/40 portfolio, and then plot the results."
   ]
  },
  {
   "cell_type": "code",
   "execution_count": 30,
   "metadata": {},
   "outputs": [
    {
     "data": {
      "text/html": [
       "<div>\n",
       "<style scoped>\n",
       "    .dataframe tbody tr th:only-of-type {\n",
       "        vertical-align: middle;\n",
       "    }\n",
       "\n",
       "    .dataframe tbody tr th {\n",
       "        vertical-align: top;\n",
       "    }\n",
       "\n",
       "    .dataframe thead tr th {\n",
       "        text-align: left;\n",
       "    }\n",
       "\n",
       "    .dataframe thead tr:last-of-type th {\n",
       "        text-align: right;\n",
       "    }\n",
       "</style>\n",
       "<table border=\"1\" class=\"dataframe\">\n",
       "  <thead>\n",
       "    <tr>\n",
       "      <th></th>\n",
       "      <th colspan=\"6\" halign=\"left\">AGG</th>\n",
       "      <th colspan=\"6\" halign=\"left\">SPY</th>\n",
       "    </tr>\n",
       "    <tr>\n",
       "      <th></th>\n",
       "      <th>open</th>\n",
       "      <th>high</th>\n",
       "      <th>low</th>\n",
       "      <th>close</th>\n",
       "      <th>volume</th>\n",
       "      <th>daily_return</th>\n",
       "      <th>open</th>\n",
       "      <th>high</th>\n",
       "      <th>low</th>\n",
       "      <th>close</th>\n",
       "      <th>volume</th>\n",
       "      <th>daily_return</th>\n",
       "    </tr>\n",
       "    <tr>\n",
       "      <th>time</th>\n",
       "      <th></th>\n",
       "      <th></th>\n",
       "      <th></th>\n",
       "      <th></th>\n",
       "      <th></th>\n",
       "      <th></th>\n",
       "      <th></th>\n",
       "      <th></th>\n",
       "      <th></th>\n",
       "      <th></th>\n",
       "      <th></th>\n",
       "      <th></th>\n",
       "    </tr>\n",
       "  </thead>\n",
       "  <tbody>\n",
       "    <tr>\n",
       "      <th>2018-09-24 00:00:00-04:00</th>\n",
       "      <td>105.33</td>\n",
       "      <td>105.46</td>\n",
       "      <td>105.3101</td>\n",
       "      <td>105.350</td>\n",
       "      <td>1771301.0</td>\n",
       "      <td>NaN</td>\n",
       "      <td>291.34</td>\n",
       "      <td>291.50</td>\n",
       "      <td>290.3700</td>\n",
       "      <td>291.07</td>\n",
       "      <td>37585070</td>\n",
       "      <td>NaN</td>\n",
       "    </tr>\n",
       "    <tr>\n",
       "      <th>2018-09-25 00:00:00-04:00</th>\n",
       "      <td>105.25</td>\n",
       "      <td>105.30</td>\n",
       "      <td>105.1800</td>\n",
       "      <td>105.290</td>\n",
       "      <td>1863777.0</td>\n",
       "      <td>-0.000570</td>\n",
       "      <td>291.53</td>\n",
       "      <td>291.65</td>\n",
       "      <td>290.4833</td>\n",
       "      <td>290.70</td>\n",
       "      <td>30128907</td>\n",
       "      <td>-0.001271</td>\n",
       "    </tr>\n",
       "    <tr>\n",
       "      <th>2018-09-26 00:00:00-04:00</th>\n",
       "      <td>105.37</td>\n",
       "      <td>105.60</td>\n",
       "      <td>105.3350</td>\n",
       "      <td>105.560</td>\n",
       "      <td>2626493.0</td>\n",
       "      <td>0.002564</td>\n",
       "      <td>290.92</td>\n",
       "      <td>292.24</td>\n",
       "      <td>289.4100</td>\n",
       "      <td>289.84</td>\n",
       "      <td>53536102</td>\n",
       "      <td>-0.002958</td>\n",
       "    </tr>\n",
       "    <tr>\n",
       "      <th>2018-09-27 00:00:00-04:00</th>\n",
       "      <td>105.50</td>\n",
       "      <td>105.64</td>\n",
       "      <td>105.5000</td>\n",
       "      <td>105.625</td>\n",
       "      <td>2252805.0</td>\n",
       "      <td>0.000616</td>\n",
       "      <td>290.44</td>\n",
       "      <td>291.91</td>\n",
       "      <td>290.1000</td>\n",
       "      <td>290.65</td>\n",
       "      <td>42099964</td>\n",
       "      <td>0.002795</td>\n",
       "    </tr>\n",
       "    <tr>\n",
       "      <th>2018-09-28 00:00:00-04:00</th>\n",
       "      <td>105.69</td>\n",
       "      <td>105.71</td>\n",
       "      <td>105.5100</td>\n",
       "      <td>105.520</td>\n",
       "      <td>3859908.0</td>\n",
       "      <td>-0.000994</td>\n",
       "      <td>289.99</td>\n",
       "      <td>291.28</td>\n",
       "      <td>289.9500</td>\n",
       "      <td>290.61</td>\n",
       "      <td>49399177</td>\n",
       "      <td>-0.000138</td>\n",
       "    </tr>\n",
       "  </tbody>\n",
       "</table>\n",
       "</div>"
      ],
      "text/plain": [
       "                              AGG                                        \\\n",
       "                             open    high       low    close     volume   \n",
       "time                                                                      \n",
       "2018-09-24 00:00:00-04:00  105.33  105.46  105.3101  105.350  1771301.0   \n",
       "2018-09-25 00:00:00-04:00  105.25  105.30  105.1800  105.290  1863777.0   \n",
       "2018-09-26 00:00:00-04:00  105.37  105.60  105.3350  105.560  2626493.0   \n",
       "2018-09-27 00:00:00-04:00  105.50  105.64  105.5000  105.625  2252805.0   \n",
       "2018-09-28 00:00:00-04:00  105.69  105.71  105.5100  105.520  3859908.0   \n",
       "\n",
       "                                           SPY                            \\\n",
       "                          daily_return    open    high       low   close   \n",
       "time                                                                       \n",
       "2018-09-24 00:00:00-04:00          NaN  291.34  291.50  290.3700  291.07   \n",
       "2018-09-25 00:00:00-04:00    -0.000570  291.53  291.65  290.4833  290.70   \n",
       "2018-09-26 00:00:00-04:00     0.002564  290.92  292.24  289.4100  289.84   \n",
       "2018-09-27 00:00:00-04:00     0.000616  290.44  291.91  290.1000  290.65   \n",
       "2018-09-28 00:00:00-04:00    -0.000994  289.99  291.28  289.9500  290.61   \n",
       "\n",
       "                                                  \n",
       "                             volume daily_return  \n",
       "time                                              \n",
       "2018-09-24 00:00:00-04:00  37585070          NaN  \n",
       "2018-09-25 00:00:00-04:00  30128907    -0.001271  \n",
       "2018-09-26 00:00:00-04:00  53536102    -0.002958  \n",
       "2018-09-27 00:00:00-04:00  42099964     0.002795  \n",
       "2018-09-28 00:00:00-04:00  49399177    -0.000138  "
      ]
     },
     "execution_count": 30,
     "metadata": {},
     "output_type": "execute_result"
    }
   ],
   "source": [
    "# Configure the Monte Carlo simulation to forecast 30 years cumulative returns\n",
    "# The weights should be split 40% to AGG and 60% to SPY.\n",
    "# Run 500 samples.\n",
    "MC_30yr=MCSimulation(\n",
    "    portfolio_data=prices_df,\n",
    "    weights=[.40,.60],\n",
    "    num_simulation=500,\n",
    "    num_trading_days=252*30)\n",
    "\n",
    "# Review the simulation input data\n",
    "MC_30yr.portfolio_data.head()\n"
   ]
  },
  {
   "cell_type": "code",
   "execution_count": 31,
   "metadata": {},
   "outputs": [
    {
     "name": "stdout",
     "output_type": "stream",
     "text": [
      "Running Monte Carlo simulation number 0.\n",
      "Running Monte Carlo simulation number 10.\n",
      "Running Monte Carlo simulation number 20.\n",
      "Running Monte Carlo simulation number 30.\n",
      "Running Monte Carlo simulation number 40.\n",
      "Running Monte Carlo simulation number 50.\n",
      "Running Monte Carlo simulation number 60.\n",
      "Running Monte Carlo simulation number 70.\n",
      "Running Monte Carlo simulation number 80.\n",
      "Running Monte Carlo simulation number 90.\n",
      "Running Monte Carlo simulation number 100.\n"
     ]
    },
    {
     "name": "stderr",
     "output_type": "stream",
     "text": [
      "/Users/meghankennedy/Desktop/FinTech_Workspace/Python_Project/Fintech_Challenge_5/MCForecastTools.py:117: PerformanceWarning: DataFrame is highly fragmented.  This is usually the result of calling `frame.insert` many times, which has poor performance.  Consider joining all columns at once using pd.concat(axis=1) instead.  To get a de-fragmented frame, use `newframe = frame.copy()`\n",
      "  portfolio_cumulative_returns[n] = (1 + sim_df.fillna(0)).cumprod()\n"
     ]
    },
    {
     "name": "stdout",
     "output_type": "stream",
     "text": [
      "Running Monte Carlo simulation number 110.\n",
      "Running Monte Carlo simulation number 120.\n",
      "Running Monte Carlo simulation number 130.\n",
      "Running Monte Carlo simulation number 140.\n",
      "Running Monte Carlo simulation number 150.\n",
      "Running Monte Carlo simulation number 160.\n",
      "Running Monte Carlo simulation number 170.\n",
      "Running Monte Carlo simulation number 180.\n",
      "Running Monte Carlo simulation number 190.\n",
      "Running Monte Carlo simulation number 200.\n",
      "Running Monte Carlo simulation number 210.\n",
      "Running Monte Carlo simulation number 220.\n",
      "Running Monte Carlo simulation number 230.\n",
      "Running Monte Carlo simulation number 240.\n",
      "Running Monte Carlo simulation number 250.\n",
      "Running Monte Carlo simulation number 260.\n",
      "Running Monte Carlo simulation number 270.\n",
      "Running Monte Carlo simulation number 280.\n",
      "Running Monte Carlo simulation number 290.\n",
      "Running Monte Carlo simulation number 300.\n",
      "Running Monte Carlo simulation number 310.\n",
      "Running Monte Carlo simulation number 320.\n",
      "Running Monte Carlo simulation number 330.\n",
      "Running Monte Carlo simulation number 340.\n",
      "Running Monte Carlo simulation number 350.\n",
      "Running Monte Carlo simulation number 360.\n",
      "Running Monte Carlo simulation number 370.\n",
      "Running Monte Carlo simulation number 380.\n",
      "Running Monte Carlo simulation number 390.\n",
      "Running Monte Carlo simulation number 400.\n",
      "Running Monte Carlo simulation number 410.\n",
      "Running Monte Carlo simulation number 420.\n",
      "Running Monte Carlo simulation number 430.\n",
      "Running Monte Carlo simulation number 440.\n",
      "Running Monte Carlo simulation number 450.\n",
      "Running Monte Carlo simulation number 460.\n",
      "Running Monte Carlo simulation number 470.\n",
      "Running Monte Carlo simulation number 480.\n",
      "Running Monte Carlo simulation number 490.\n"
     ]
    },
    {
     "data": {
      "text/html": [
       "<div>\n",
       "<style scoped>\n",
       "    .dataframe tbody tr th:only-of-type {\n",
       "        vertical-align: middle;\n",
       "    }\n",
       "\n",
       "    .dataframe tbody tr th {\n",
       "        vertical-align: top;\n",
       "    }\n",
       "\n",
       "    .dataframe thead th {\n",
       "        text-align: right;\n",
       "    }\n",
       "</style>\n",
       "<table border=\"1\" class=\"dataframe\">\n",
       "  <thead>\n",
       "    <tr style=\"text-align: right;\">\n",
       "      <th></th>\n",
       "      <th>0</th>\n",
       "      <th>1</th>\n",
       "      <th>2</th>\n",
       "      <th>3</th>\n",
       "      <th>4</th>\n",
       "      <th>5</th>\n",
       "      <th>6</th>\n",
       "      <th>7</th>\n",
       "      <th>8</th>\n",
       "      <th>9</th>\n",
       "      <th>...</th>\n",
       "      <th>490</th>\n",
       "      <th>491</th>\n",
       "      <th>492</th>\n",
       "      <th>493</th>\n",
       "      <th>494</th>\n",
       "      <th>495</th>\n",
       "      <th>496</th>\n",
       "      <th>497</th>\n",
       "      <th>498</th>\n",
       "      <th>499</th>\n",
       "    </tr>\n",
       "  </thead>\n",
       "  <tbody>\n",
       "    <tr>\n",
       "      <th>0</th>\n",
       "      <td>1.000000</td>\n",
       "      <td>1.000000</td>\n",
       "      <td>1.000000</td>\n",
       "      <td>1.000000</td>\n",
       "      <td>1.000000</td>\n",
       "      <td>1.000000</td>\n",
       "      <td>1.000000</td>\n",
       "      <td>1.000000</td>\n",
       "      <td>1.000000</td>\n",
       "      <td>1.000000</td>\n",
       "      <td>...</td>\n",
       "      <td>1.000000</td>\n",
       "      <td>1.000000</td>\n",
       "      <td>1.000000</td>\n",
       "      <td>1.000000</td>\n",
       "      <td>1.000000</td>\n",
       "      <td>1.000000</td>\n",
       "      <td>1.000000</td>\n",
       "      <td>1.000000</td>\n",
       "      <td>1.000000</td>\n",
       "      <td>1.000000</td>\n",
       "    </tr>\n",
       "    <tr>\n",
       "      <th>1</th>\n",
       "      <td>1.007267</td>\n",
       "      <td>1.007646</td>\n",
       "      <td>1.007691</td>\n",
       "      <td>0.992986</td>\n",
       "      <td>1.003776</td>\n",
       "      <td>0.994999</td>\n",
       "      <td>0.994853</td>\n",
       "      <td>0.986758</td>\n",
       "      <td>0.997781</td>\n",
       "      <td>1.015492</td>\n",
       "      <td>...</td>\n",
       "      <td>1.003129</td>\n",
       "      <td>0.990779</td>\n",
       "      <td>0.985578</td>\n",
       "      <td>0.998441</td>\n",
       "      <td>0.983065</td>\n",
       "      <td>1.002426</td>\n",
       "      <td>0.982975</td>\n",
       "      <td>0.998949</td>\n",
       "      <td>1.010693</td>\n",
       "      <td>0.995671</td>\n",
       "    </tr>\n",
       "    <tr>\n",
       "      <th>2</th>\n",
       "      <td>1.009233</td>\n",
       "      <td>1.006331</td>\n",
       "      <td>1.005913</td>\n",
       "      <td>0.972091</td>\n",
       "      <td>1.008871</td>\n",
       "      <td>0.988257</td>\n",
       "      <td>0.986150</td>\n",
       "      <td>0.988314</td>\n",
       "      <td>1.016021</td>\n",
       "      <td>1.019530</td>\n",
       "      <td>...</td>\n",
       "      <td>0.996307</td>\n",
       "      <td>1.003535</td>\n",
       "      <td>0.986682</td>\n",
       "      <td>0.993222</td>\n",
       "      <td>0.982469</td>\n",
       "      <td>1.008956</td>\n",
       "      <td>0.978189</td>\n",
       "      <td>0.999832</td>\n",
       "      <td>1.013525</td>\n",
       "      <td>1.014401</td>\n",
       "    </tr>\n",
       "    <tr>\n",
       "      <th>3</th>\n",
       "      <td>1.015776</td>\n",
       "      <td>1.012796</td>\n",
       "      <td>1.013293</td>\n",
       "      <td>0.967395</td>\n",
       "      <td>1.009836</td>\n",
       "      <td>0.977264</td>\n",
       "      <td>0.978419</td>\n",
       "      <td>0.984287</td>\n",
       "      <td>1.037652</td>\n",
       "      <td>1.009647</td>\n",
       "      <td>...</td>\n",
       "      <td>0.997513</td>\n",
       "      <td>1.019062</td>\n",
       "      <td>0.987199</td>\n",
       "      <td>1.011388</td>\n",
       "      <td>0.992094</td>\n",
       "      <td>1.013110</td>\n",
       "      <td>0.973615</td>\n",
       "      <td>1.002840</td>\n",
       "      <td>1.009982</td>\n",
       "      <td>1.002949</td>\n",
       "    </tr>\n",
       "    <tr>\n",
       "      <th>4</th>\n",
       "      <td>1.009240</td>\n",
       "      <td>1.010044</td>\n",
       "      <td>1.026258</td>\n",
       "      <td>0.974149</td>\n",
       "      <td>1.004110</td>\n",
       "      <td>0.970637</td>\n",
       "      <td>0.984003</td>\n",
       "      <td>0.976479</td>\n",
       "      <td>1.041223</td>\n",
       "      <td>1.003518</td>\n",
       "      <td>...</td>\n",
       "      <td>0.999591</td>\n",
       "      <td>1.010519</td>\n",
       "      <td>0.986319</td>\n",
       "      <td>1.010904</td>\n",
       "      <td>0.995432</td>\n",
       "      <td>1.022796</td>\n",
       "      <td>0.988123</td>\n",
       "      <td>0.998677</td>\n",
       "      <td>1.007382</td>\n",
       "      <td>1.015172</td>\n",
       "    </tr>\n",
       "    <tr>\n",
       "      <th>...</th>\n",
       "      <td>...</td>\n",
       "      <td>...</td>\n",
       "      <td>...</td>\n",
       "      <td>...</td>\n",
       "      <td>...</td>\n",
       "      <td>...</td>\n",
       "      <td>...</td>\n",
       "      <td>...</td>\n",
       "      <td>...</td>\n",
       "      <td>...</td>\n",
       "      <td>...</td>\n",
       "      <td>...</td>\n",
       "      <td>...</td>\n",
       "      <td>...</td>\n",
       "      <td>...</td>\n",
       "      <td>...</td>\n",
       "      <td>...</td>\n",
       "      <td>...</td>\n",
       "      <td>...</td>\n",
       "      <td>...</td>\n",
       "      <td>...</td>\n",
       "    </tr>\n",
       "    <tr>\n",
       "      <th>7556</th>\n",
       "      <td>12.036404</td>\n",
       "      <td>9.502072</td>\n",
       "      <td>100.828567</td>\n",
       "      <td>35.119203</td>\n",
       "      <td>5.190733</td>\n",
       "      <td>17.206957</td>\n",
       "      <td>77.487099</td>\n",
       "      <td>32.157803</td>\n",
       "      <td>35.480278</td>\n",
       "      <td>43.750636</td>\n",
       "      <td>...</td>\n",
       "      <td>27.249690</td>\n",
       "      <td>50.708688</td>\n",
       "      <td>16.626326</td>\n",
       "      <td>32.099556</td>\n",
       "      <td>11.665686</td>\n",
       "      <td>9.921139</td>\n",
       "      <td>17.765368</td>\n",
       "      <td>33.375549</td>\n",
       "      <td>32.064358</td>\n",
       "      <td>41.574659</td>\n",
       "    </tr>\n",
       "    <tr>\n",
       "      <th>7557</th>\n",
       "      <td>12.126470</td>\n",
       "      <td>9.541227</td>\n",
       "      <td>100.747463</td>\n",
       "      <td>34.795544</td>\n",
       "      <td>5.177343</td>\n",
       "      <td>17.384021</td>\n",
       "      <td>78.669508</td>\n",
       "      <td>31.998802</td>\n",
       "      <td>35.568586</td>\n",
       "      <td>43.602137</td>\n",
       "      <td>...</td>\n",
       "      <td>27.204434</td>\n",
       "      <td>50.482625</td>\n",
       "      <td>16.505102</td>\n",
       "      <td>32.251171</td>\n",
       "      <td>11.506045</td>\n",
       "      <td>9.863913</td>\n",
       "      <td>17.749549</td>\n",
       "      <td>33.367115</td>\n",
       "      <td>32.415123</td>\n",
       "      <td>41.475885</td>\n",
       "    </tr>\n",
       "    <tr>\n",
       "      <th>7558</th>\n",
       "      <td>12.221140</td>\n",
       "      <td>9.556790</td>\n",
       "      <td>100.656257</td>\n",
       "      <td>34.824698</td>\n",
       "      <td>5.232501</td>\n",
       "      <td>17.556927</td>\n",
       "      <td>78.646846</td>\n",
       "      <td>31.685708</td>\n",
       "      <td>35.588559</td>\n",
       "      <td>43.209634</td>\n",
       "      <td>...</td>\n",
       "      <td>26.563280</td>\n",
       "      <td>50.282592</td>\n",
       "      <td>16.245013</td>\n",
       "      <td>32.061103</td>\n",
       "      <td>11.430372</td>\n",
       "      <td>9.864803</td>\n",
       "      <td>17.628054</td>\n",
       "      <td>33.272759</td>\n",
       "      <td>32.712850</td>\n",
       "      <td>42.127896</td>\n",
       "    </tr>\n",
       "    <tr>\n",
       "      <th>7559</th>\n",
       "      <td>12.170398</td>\n",
       "      <td>9.405804</td>\n",
       "      <td>97.984875</td>\n",
       "      <td>34.960529</td>\n",
       "      <td>5.191715</td>\n",
       "      <td>17.889633</td>\n",
       "      <td>79.314434</td>\n",
       "      <td>31.226117</td>\n",
       "      <td>35.313634</td>\n",
       "      <td>42.118067</td>\n",
       "      <td>...</td>\n",
       "      <td>26.721282</td>\n",
       "      <td>50.401127</td>\n",
       "      <td>16.165951</td>\n",
       "      <td>32.567275</td>\n",
       "      <td>11.498812</td>\n",
       "      <td>10.026020</td>\n",
       "      <td>17.470105</td>\n",
       "      <td>33.035757</td>\n",
       "      <td>32.445940</td>\n",
       "      <td>42.652528</td>\n",
       "    </tr>\n",
       "    <tr>\n",
       "      <th>7560</th>\n",
       "      <td>12.170397</td>\n",
       "      <td>9.441491</td>\n",
       "      <td>97.599642</td>\n",
       "      <td>35.247939</td>\n",
       "      <td>5.126704</td>\n",
       "      <td>17.950837</td>\n",
       "      <td>78.674692</td>\n",
       "      <td>31.345220</td>\n",
       "      <td>35.180561</td>\n",
       "      <td>42.263213</td>\n",
       "      <td>...</td>\n",
       "      <td>26.901291</td>\n",
       "      <td>50.616194</td>\n",
       "      <td>16.151259</td>\n",
       "      <td>32.632264</td>\n",
       "      <td>11.419180</td>\n",
       "      <td>10.166111</td>\n",
       "      <td>17.476598</td>\n",
       "      <td>33.243688</td>\n",
       "      <td>32.863459</td>\n",
       "      <td>42.652117</td>\n",
       "    </tr>\n",
       "  </tbody>\n",
       "</table>\n",
       "<p>7561 rows × 500 columns</p>\n",
       "</div>"
      ],
      "text/plain": [
       "            0         1           2          3         4          5    \\\n",
       "0      1.000000  1.000000    1.000000   1.000000  1.000000   1.000000   \n",
       "1      1.007267  1.007646    1.007691   0.992986  1.003776   0.994999   \n",
       "2      1.009233  1.006331    1.005913   0.972091  1.008871   0.988257   \n",
       "3      1.015776  1.012796    1.013293   0.967395  1.009836   0.977264   \n",
       "4      1.009240  1.010044    1.026258   0.974149  1.004110   0.970637   \n",
       "...         ...       ...         ...        ...       ...        ...   \n",
       "7556  12.036404  9.502072  100.828567  35.119203  5.190733  17.206957   \n",
       "7557  12.126470  9.541227  100.747463  34.795544  5.177343  17.384021   \n",
       "7558  12.221140  9.556790  100.656257  34.824698  5.232501  17.556927   \n",
       "7559  12.170398  9.405804   97.984875  34.960529  5.191715  17.889633   \n",
       "7560  12.170397  9.441491   97.599642  35.247939  5.126704  17.950837   \n",
       "\n",
       "            6          7          8          9    ...        490        491  \\\n",
       "0      1.000000   1.000000   1.000000   1.000000  ...   1.000000   1.000000   \n",
       "1      0.994853   0.986758   0.997781   1.015492  ...   1.003129   0.990779   \n",
       "2      0.986150   0.988314   1.016021   1.019530  ...   0.996307   1.003535   \n",
       "3      0.978419   0.984287   1.037652   1.009647  ...   0.997513   1.019062   \n",
       "4      0.984003   0.976479   1.041223   1.003518  ...   0.999591   1.010519   \n",
       "...         ...        ...        ...        ...  ...        ...        ...   \n",
       "7556  77.487099  32.157803  35.480278  43.750636  ...  27.249690  50.708688   \n",
       "7557  78.669508  31.998802  35.568586  43.602137  ...  27.204434  50.482625   \n",
       "7558  78.646846  31.685708  35.588559  43.209634  ...  26.563280  50.282592   \n",
       "7559  79.314434  31.226117  35.313634  42.118067  ...  26.721282  50.401127   \n",
       "7560  78.674692  31.345220  35.180561  42.263213  ...  26.901291  50.616194   \n",
       "\n",
       "            492        493        494        495        496        497  \\\n",
       "0      1.000000   1.000000   1.000000   1.000000   1.000000   1.000000   \n",
       "1      0.985578   0.998441   0.983065   1.002426   0.982975   0.998949   \n",
       "2      0.986682   0.993222   0.982469   1.008956   0.978189   0.999832   \n",
       "3      0.987199   1.011388   0.992094   1.013110   0.973615   1.002840   \n",
       "4      0.986319   1.010904   0.995432   1.022796   0.988123   0.998677   \n",
       "...         ...        ...        ...        ...        ...        ...   \n",
       "7556  16.626326  32.099556  11.665686   9.921139  17.765368  33.375549   \n",
       "7557  16.505102  32.251171  11.506045   9.863913  17.749549  33.367115   \n",
       "7558  16.245013  32.061103  11.430372   9.864803  17.628054  33.272759   \n",
       "7559  16.165951  32.567275  11.498812  10.026020  17.470105  33.035757   \n",
       "7560  16.151259  32.632264  11.419180  10.166111  17.476598  33.243688   \n",
       "\n",
       "            498        499  \n",
       "0      1.000000   1.000000  \n",
       "1      1.010693   0.995671  \n",
       "2      1.013525   1.014401  \n",
       "3      1.009982   1.002949  \n",
       "4      1.007382   1.015172  \n",
       "...         ...        ...  \n",
       "7556  32.064358  41.574659  \n",
       "7557  32.415123  41.475885  \n",
       "7558  32.712850  42.127896  \n",
       "7559  32.445940  42.652528  \n",
       "7560  32.863459  42.652117  \n",
       "\n",
       "[7561 rows x 500 columns]"
      ]
     },
     "execution_count": 31,
     "metadata": {},
     "output_type": "execute_result"
    }
   ],
   "source": [
    "# Run the Monte Carlo simulation to forecast 30 years cumulative returns\n",
    "\n",
    "MC_30yr.calc_cumulative_return()"
   ]
  },
  {
   "cell_type": "code",
   "execution_count": 32,
   "metadata": {},
   "outputs": [
    {
     "data": {
      "text/plain": [
       "<AxesSubplot:title={'center':'500 Simulations of Cumulative Portfolio Return Trajectories Over the Next 7560 Trading Days.'}>"
      ]
     },
     "execution_count": 32,
     "metadata": {},
     "output_type": "execute_result"
    },
    {
     "data": {
      "image/png": "[encoded data removed]",
      "text/plain": [
       "<Figure size 432x288 with 1 Axes>"
      ]
     },
     "metadata": {
      "needs_background": "light"
     },
     "output_type": "display_data"
    }
   ],
   "source": [
    "# Visualize the 30-year Monte Carlo simulation by creating an\n",
    "# overlay line plot\n",
    "\n",
    "MC_30yr.plot_simulation()\n"
   ]
  },
  {
   "cell_type": "markdown",
   "metadata": {},
   "source": [
    "#### Step 3: Plot the probability distribution of the Monte Carlo simulation."
   ]
  },
  {
   "cell_type": "code",
   "execution_count": 33,
   "metadata": {},
   "outputs": [
    {
     "data": {
      "text/plain": [
       "<AxesSubplot:title={'center':'Distribution of Final Cumuluative Returns Across All 500 Simulations'}, ylabel='Frequency'>"
      ]
     },
     "execution_count": 33,
     "metadata": {},
     "output_type": "execute_result"
    },
    {
     "data": {
      "image/png": "[encoded data removed]",
      "text/plain": [
       "<Figure size 432x288 with 1 Axes>"
      ]
     },
     "metadata": {
      "needs_background": "light"
     },
     "output_type": "display_data"
    }
   ],
   "source": [
    "# Visualize the probability distribution of the 30-year Monte Carlo simulation \n",
    "# by plotting a histogram\n",
    "\n",
    "MC_30yr.plot_distribution()"
   ]
  },
  {
   "cell_type": "markdown",
   "metadata": {},
   "source": [
    "#### Step 4: Generate the summary statistics for the Monte Carlo simulation."
   ]
  },
  {
   "cell_type": "code",
   "execution_count": 34,
   "metadata": {},
   "outputs": [
    {
     "name": "stdout",
     "output_type": "stream",
     "text": [
      "count           500.000000\n",
      "mean             30.947370\n",
      "std              24.793282\n",
      "min               1.733100\n",
      "25%              14.577702\n",
      "50%              23.938421\n",
      "75%              39.443836\n",
      "max             184.413269\n",
      "95% CI Lower      5.613255\n",
      "95% CI Upper     94.200369\n",
      "Name: 7560, dtype: float64\n"
     ]
    }
   ],
   "source": [
    "# Generate summary statistics from the 30-year Monte Carlo simulation results\n",
    "# Save the results as a variable\n",
    "MC_30yr_summary_stats=MC_30yr.summarize_cumulative_return()\n",
    "\n",
    "\n",
    "# Review the 30-year Monte Carlo summary statistics\n",
    "print(MC_30yr_summary_stats)"
   ]
  },
  {
   "cell_type": "markdown",
   "metadata": {},
   "source": [
    "### Analyze the Retirement Portfolio Forecasts\n",
    "\n",
    "Using the current value of only the stock and bond portion of the member's portfolio and the summary statistics that you generated from the Monte Carlo simulation, answer the following question in your Jupyter notebook:\n",
    "\n",
    "-  What are the lower and upper bounds for the expected value of the portfolio with a 95% confidence interval?\n"
   ]
  },
  {
   "cell_type": "code",
   "execution_count": 35,
   "metadata": {},
   "outputs": [
    {
     "name": "stdout",
     "output_type": "stream",
     "text": [
      "71913.20000000001\n"
     ]
    }
   ],
   "source": [
    "# Print the current balance of the stock and bond portion of the members portfolio\n",
    "\n",
    "print(total_stocks_bonds)"
   ]
  },
  {
   "cell_type": "code",
   "execution_count": 36,
   "metadata": {},
   "outputs": [
    {
     "name": "stdout",
     "output_type": "stream",
     "text": [
      "There is a 95% chance that over the next 30 years the total stocks & bonds will end within the range of $ 403667.15 and $ 6774249.96.\n"
     ]
    }
   ],
   "source": [
    "# Use the lower and upper `95%` confidence intervals to calculate the range of the possible outcomes for the current stock/bond portfolio\n",
    "ci_lower_thirty_cumulative_return = MC_30yr_summary_stats[8]*total_stocks_bonds\n",
    "ci_upper_thirty_cumulative_return = MC_30yr_summary_stats[9]*total_stocks_bonds\n",
    "\n",
    "# Print the result of your calculations\n",
    "print(f\"There is a 95% chance that over the next 30 years the total stocks & bonds will end within the range of\"\n",
    "      f\" ${ci_lower_thirty_cumulative_return: .2f} and ${ci_upper_thirty_cumulative_return: .2f}.\")\n"
   ]
  },
  {
   "cell_type": "markdown",
   "metadata": {},
   "source": [
    "### Forecast Cumulative Returns in 10 Years\n",
    "\n",
    "The CTO of the credit union is impressed with your work on these planning tools but wonders if 30 years is a long time to wait until retirement. So, your next task is to adjust the retirement portfolio and run a new Monte Carlo simulation to find out if the changes will allow members to retire earlier.\n",
    "\n",
    "For this new Monte Carlo simulation, do the following: \n",
    "\n",
    "- Forecast the cumulative returns for 10 years from now. Because of the shortened investment horizon (30 years to 10 years), the portfolio needs to invest more heavily in the riskier asset&mdash;that is, stock&mdash;to help accumulate wealth for retirement. \n",
    "\n",
    "- Adjust the weights of the retirement portfolio so that the composition for the Monte Carlo simulation consists of 20% bonds and 80% stocks. \n",
    "\n",
    "- Run the simulation over 500 samples, and use the same data that the API call to Alpaca generated.\n",
    "\n",
    "- Based on the new Monte Carlo simulation, answer the following questions in your Jupyter notebook:\n",
    "\n",
    "    - Using the current value of only the stock and bond portion of the member's portfolio and the summary statistics that you generated from the new Monte Carlo simulation, what are the lower and upper bounds for the expected value of the portfolio (with the new weights) with a 95% confidence interval?\n",
    "\n",
    "    - Will weighting the portfolio more heavily toward stocks allow the credit union members to retire after only 10 years?\n"
   ]
  },
  {
   "cell_type": "code",
   "execution_count": 37,
   "metadata": {},
   "outputs": [
    {
     "data": {
      "text/html": [
       "<div>\n",
       "<style scoped>\n",
       "    .dataframe tbody tr th:only-of-type {\n",
       "        vertical-align: middle;\n",
       "    }\n",
       "\n",
       "    .dataframe tbody tr th {\n",
       "        vertical-align: top;\n",
       "    }\n",
       "\n",
       "    .dataframe thead tr th {\n",
       "        text-align: left;\n",
       "    }\n",
       "\n",
       "    .dataframe thead tr:last-of-type th {\n",
       "        text-align: right;\n",
       "    }\n",
       "</style>\n",
       "<table border=\"1\" class=\"dataframe\">\n",
       "  <thead>\n",
       "    <tr>\n",
       "      <th></th>\n",
       "      <th colspan=\"6\" halign=\"left\">AGG</th>\n",
       "      <th colspan=\"6\" halign=\"left\">SPY</th>\n",
       "    </tr>\n",
       "    <tr>\n",
       "      <th></th>\n",
       "      <th>open</th>\n",
       "      <th>high</th>\n",
       "      <th>low</th>\n",
       "      <th>close</th>\n",
       "      <th>volume</th>\n",
       "      <th>daily_return</th>\n",
       "      <th>open</th>\n",
       "      <th>high</th>\n",
       "      <th>low</th>\n",
       "      <th>close</th>\n",
       "      <th>volume</th>\n",
       "      <th>daily_return</th>\n",
       "    </tr>\n",
       "    <tr>\n",
       "      <th>time</th>\n",
       "      <th></th>\n",
       "      <th></th>\n",
       "      <th></th>\n",
       "      <th></th>\n",
       "      <th></th>\n",
       "      <th></th>\n",
       "      <th></th>\n",
       "      <th></th>\n",
       "      <th></th>\n",
       "      <th></th>\n",
       "      <th></th>\n",
       "      <th></th>\n",
       "    </tr>\n",
       "  </thead>\n",
       "  <tbody>\n",
       "    <tr>\n",
       "      <th>2018-09-24 00:00:00-04:00</th>\n",
       "      <td>105.33</td>\n",
       "      <td>105.46</td>\n",
       "      <td>105.3101</td>\n",
       "      <td>105.350</td>\n",
       "      <td>1771301.0</td>\n",
       "      <td>NaN</td>\n",
       "      <td>291.34</td>\n",
       "      <td>291.50</td>\n",
       "      <td>290.3700</td>\n",
       "      <td>291.07</td>\n",
       "      <td>37585070</td>\n",
       "      <td>NaN</td>\n",
       "    </tr>\n",
       "    <tr>\n",
       "      <th>2018-09-25 00:00:00-04:00</th>\n",
       "      <td>105.25</td>\n",
       "      <td>105.30</td>\n",
       "      <td>105.1800</td>\n",
       "      <td>105.290</td>\n",
       "      <td>1863777.0</td>\n",
       "      <td>-0.000570</td>\n",
       "      <td>291.53</td>\n",
       "      <td>291.65</td>\n",
       "      <td>290.4833</td>\n",
       "      <td>290.70</td>\n",
       "      <td>30128907</td>\n",
       "      <td>-0.001271</td>\n",
       "    </tr>\n",
       "    <tr>\n",
       "      <th>2018-09-26 00:00:00-04:00</th>\n",
       "      <td>105.37</td>\n",
       "      <td>105.60</td>\n",
       "      <td>105.3350</td>\n",
       "      <td>105.560</td>\n",
       "      <td>2626493.0</td>\n",
       "      <td>0.002564</td>\n",
       "      <td>290.92</td>\n",
       "      <td>292.24</td>\n",
       "      <td>289.4100</td>\n",
       "      <td>289.84</td>\n",
       "      <td>53536102</td>\n",
       "      <td>-0.002958</td>\n",
       "    </tr>\n",
       "    <tr>\n",
       "      <th>2018-09-27 00:00:00-04:00</th>\n",
       "      <td>105.50</td>\n",
       "      <td>105.64</td>\n",
       "      <td>105.5000</td>\n",
       "      <td>105.625</td>\n",
       "      <td>2252805.0</td>\n",
       "      <td>0.000616</td>\n",
       "      <td>290.44</td>\n",
       "      <td>291.91</td>\n",
       "      <td>290.1000</td>\n",
       "      <td>290.65</td>\n",
       "      <td>42099964</td>\n",
       "      <td>0.002795</td>\n",
       "    </tr>\n",
       "    <tr>\n",
       "      <th>2018-09-28 00:00:00-04:00</th>\n",
       "      <td>105.69</td>\n",
       "      <td>105.71</td>\n",
       "      <td>105.5100</td>\n",
       "      <td>105.520</td>\n",
       "      <td>3859908.0</td>\n",
       "      <td>-0.000994</td>\n",
       "      <td>289.99</td>\n",
       "      <td>291.28</td>\n",
       "      <td>289.9500</td>\n",
       "      <td>290.61</td>\n",
       "      <td>49399177</td>\n",
       "      <td>-0.000138</td>\n",
       "    </tr>\n",
       "  </tbody>\n",
       "</table>\n",
       "</div>"
      ],
      "text/plain": [
       "                              AGG                                        \\\n",
       "                             open    high       low    close     volume   \n",
       "time                                                                      \n",
       "2018-09-24 00:00:00-04:00  105.33  105.46  105.3101  105.350  1771301.0   \n",
       "2018-09-25 00:00:00-04:00  105.25  105.30  105.1800  105.290  1863777.0   \n",
       "2018-09-26 00:00:00-04:00  105.37  105.60  105.3350  105.560  2626493.0   \n",
       "2018-09-27 00:00:00-04:00  105.50  105.64  105.5000  105.625  2252805.0   \n",
       "2018-09-28 00:00:00-04:00  105.69  105.71  105.5100  105.520  3859908.0   \n",
       "\n",
       "                                           SPY                            \\\n",
       "                          daily_return    open    high       low   close   \n",
       "time                                                                       \n",
       "2018-09-24 00:00:00-04:00          NaN  291.34  291.50  290.3700  291.07   \n",
       "2018-09-25 00:00:00-04:00    -0.000570  291.53  291.65  290.4833  290.70   \n",
       "2018-09-26 00:00:00-04:00     0.002564  290.92  292.24  289.4100  289.84   \n",
       "2018-09-27 00:00:00-04:00     0.000616  290.44  291.91  290.1000  290.65   \n",
       "2018-09-28 00:00:00-04:00    -0.000994  289.99  291.28  289.9500  290.61   \n",
       "\n",
       "                                                  \n",
       "                             volume daily_return  \n",
       "time                                              \n",
       "2018-09-24 00:00:00-04:00  37585070          NaN  \n",
       "2018-09-25 00:00:00-04:00  30128907    -0.001271  \n",
       "2018-09-26 00:00:00-04:00  53536102    -0.002958  \n",
       "2018-09-27 00:00:00-04:00  42099964     0.002795  \n",
       "2018-09-28 00:00:00-04:00  49399177    -0.000138  "
      ]
     },
     "execution_count": 37,
     "metadata": {},
     "output_type": "execute_result"
    }
   ],
   "source": [
    "# Configure a Monte Carlo simulation to forecast 10 years cumulative returns\n",
    "# The weights should be split 20% to AGG and 80% to SPY.\n",
    "# Run 500 samples.\n",
    "MC_10yr=MCSimulation(\n",
    "    portfolio_data=prices_df,\n",
    "    weights=[.20,.80],\n",
    "    num_simulation=500,\n",
    "    num_trading_days=252*10)\n",
    "\n",
    "# Review the simulation input data\n",
    "MC_10yr.portfolio_data.head()\n"
   ]
  },
  {
   "cell_type": "code",
   "execution_count": 38,
   "metadata": {},
   "outputs": [
    {
     "name": "stdout",
     "output_type": "stream",
     "text": [
      "Running Monte Carlo simulation number 0.\n",
      "Running Monte Carlo simulation number 10.\n",
      "Running Monte Carlo simulation number 20.\n",
      "Running Monte Carlo simulation number 30.\n",
      "Running Monte Carlo simulation number 40.\n",
      "Running Monte Carlo simulation number 50.\n",
      "Running Monte Carlo simulation number 60.\n",
      "Running Monte Carlo simulation number 70.\n",
      "Running Monte Carlo simulation number 80.\n",
      "Running Monte Carlo simulation number 90.\n",
      "Running Monte Carlo simulation number 100.\n"
     ]
    },
    {
     "name": "stderr",
     "output_type": "stream",
     "text": [
      "/Users/meghankennedy/Desktop/FinTech_Workspace/Python_Project/Fintech_Challenge_5/MCForecastTools.py:117: PerformanceWarning: DataFrame is highly fragmented.  This is usually the result of calling `frame.insert` many times, which has poor performance.  Consider joining all columns at once using pd.concat(axis=1) instead.  To get a de-fragmented frame, use `newframe = frame.copy()`\n",
      "  portfolio_cumulative_returns[n] = (1 + sim_df.fillna(0)).cumprod()\n"
     ]
    },
    {
     "name": "stdout",
     "output_type": "stream",
     "text": [
      "Running Monte Carlo simulation number 110.\n",
      "Running Monte Carlo simulation number 120.\n",
      "Running Monte Carlo simulation number 130.\n",
      "Running Monte Carlo simulation number 140.\n",
      "Running Monte Carlo simulation number 150.\n",
      "Running Monte Carlo simulation number 160.\n",
      "Running Monte Carlo simulation number 170.\n",
      "Running Monte Carlo simulation number 180.\n",
      "Running Monte Carlo simulation number 190.\n",
      "Running Monte Carlo simulation number 200.\n",
      "Running Monte Carlo simulation number 210.\n",
      "Running Monte Carlo simulation number 220.\n",
      "Running Monte Carlo simulation number 230.\n",
      "Running Monte Carlo simulation number 240.\n",
      "Running Monte Carlo simulation number 250.\n",
      "Running Monte Carlo simulation number 260.\n",
      "Running Monte Carlo simulation number 270.\n",
      "Running Monte Carlo simulation number 280.\n",
      "Running Monte Carlo simulation number 290.\n",
      "Running Monte Carlo simulation number 300.\n",
      "Running Monte Carlo simulation number 310.\n",
      "Running Monte Carlo simulation number 320.\n",
      "Running Monte Carlo simulation number 330.\n",
      "Running Monte Carlo simulation number 340.\n",
      "Running Monte Carlo simulation number 350.\n",
      "Running Monte Carlo simulation number 360.\n",
      "Running Monte Carlo simulation number 370.\n",
      "Running Monte Carlo simulation number 380.\n",
      "Running Monte Carlo simulation number 390.\n",
      "Running Monte Carlo simulation number 400.\n",
      "Running Monte Carlo simulation number 410.\n",
      "Running Monte Carlo simulation number 420.\n",
      "Running Monte Carlo simulation number 430.\n",
      "Running Monte Carlo simulation number 440.\n",
      "Running Monte Carlo simulation number 450.\n",
      "Running Monte Carlo simulation number 460.\n",
      "Running Monte Carlo simulation number 470.\n",
      "Running Monte Carlo simulation number 480.\n",
      "Running Monte Carlo simulation number 490.\n"
     ]
    },
    {
     "data": {
      "text/html": [
       "<div>\n",
       "<style scoped>\n",
       "    .dataframe tbody tr th:only-of-type {\n",
       "        vertical-align: middle;\n",
       "    }\n",
       "\n",
       "    .dataframe tbody tr th {\n",
       "        vertical-align: top;\n",
       "    }\n",
       "\n",
       "    .dataframe thead th {\n",
       "        text-align: right;\n",
       "    }\n",
       "</style>\n",
       "<table border=\"1\" class=\"dataframe\">\n",
       "  <thead>\n",
       "    <tr style=\"text-align: right;\">\n",
       "      <th></th>\n",
       "      <th>0</th>\n",
       "      <th>1</th>\n",
       "      <th>2</th>\n",
       "      <th>3</th>\n",
       "      <th>4</th>\n",
       "      <th>5</th>\n",
       "      <th>6</th>\n",
       "      <th>7</th>\n",
       "      <th>8</th>\n",
       "      <th>9</th>\n",
       "      <th>...</th>\n",
       "      <th>490</th>\n",
       "      <th>491</th>\n",
       "      <th>492</th>\n",
       "      <th>493</th>\n",
       "      <th>494</th>\n",
       "      <th>495</th>\n",
       "      <th>496</th>\n",
       "      <th>497</th>\n",
       "      <th>498</th>\n",
       "      <th>499</th>\n",
       "    </tr>\n",
       "  </thead>\n",
       "  <tbody>\n",
       "    <tr>\n",
       "      <th>0</th>\n",
       "      <td>1.000000</td>\n",
       "      <td>1.000000</td>\n",
       "      <td>1.000000</td>\n",
       "      <td>1.000000</td>\n",
       "      <td>1.000000</td>\n",
       "      <td>1.000000</td>\n",
       "      <td>1.000000</td>\n",
       "      <td>1.000000</td>\n",
       "      <td>1.000000</td>\n",
       "      <td>1.000000</td>\n",
       "      <td>...</td>\n",
       "      <td>1.000000</td>\n",
       "      <td>1.000000</td>\n",
       "      <td>1.000000</td>\n",
       "      <td>1.000000</td>\n",
       "      <td>1.000000</td>\n",
       "      <td>1.000000</td>\n",
       "      <td>1.000000</td>\n",
       "      <td>1.000000</td>\n",
       "      <td>1.000000</td>\n",
       "      <td>1.000000</td>\n",
       "    </tr>\n",
       "    <tr>\n",
       "      <th>1</th>\n",
       "      <td>0.999635</td>\n",
       "      <td>0.992493</td>\n",
       "      <td>1.009801</td>\n",
       "      <td>1.002757</td>\n",
       "      <td>1.010604</td>\n",
       "      <td>1.007494</td>\n",
       "      <td>1.001564</td>\n",
       "      <td>1.007196</td>\n",
       "      <td>0.998753</td>\n",
       "      <td>1.013794</td>\n",
       "      <td>...</td>\n",
       "      <td>0.990847</td>\n",
       "      <td>1.001694</td>\n",
       "      <td>0.997766</td>\n",
       "      <td>0.992365</td>\n",
       "      <td>1.002328</td>\n",
       "      <td>0.988828</td>\n",
       "      <td>0.996498</td>\n",
       "      <td>1.008454</td>\n",
       "      <td>0.993314</td>\n",
       "      <td>0.998334</td>\n",
       "    </tr>\n",
       "    <tr>\n",
       "      <th>2</th>\n",
       "      <td>1.025101</td>\n",
       "      <td>1.001091</td>\n",
       "      <td>1.006179</td>\n",
       "      <td>1.010553</td>\n",
       "      <td>1.035132</td>\n",
       "      <td>0.991837</td>\n",
       "      <td>0.996407</td>\n",
       "      <td>0.998898</td>\n",
       "      <td>0.979265</td>\n",
       "      <td>1.008971</td>\n",
       "      <td>...</td>\n",
       "      <td>0.984307</td>\n",
       "      <td>0.998794</td>\n",
       "      <td>0.999151</td>\n",
       "      <td>0.999389</td>\n",
       "      <td>1.020459</td>\n",
       "      <td>0.987747</td>\n",
       "      <td>0.977792</td>\n",
       "      <td>1.010012</td>\n",
       "      <td>0.994448</td>\n",
       "      <td>0.986180</td>\n",
       "    </tr>\n",
       "    <tr>\n",
       "      <th>3</th>\n",
       "      <td>1.006313</td>\n",
       "      <td>1.002644</td>\n",
       "      <td>1.011924</td>\n",
       "      <td>1.031862</td>\n",
       "      <td>1.034954</td>\n",
       "      <td>0.985024</td>\n",
       "      <td>1.010945</td>\n",
       "      <td>0.993376</td>\n",
       "      <td>0.975635</td>\n",
       "      <td>1.005228</td>\n",
       "      <td>...</td>\n",
       "      <td>0.978100</td>\n",
       "      <td>1.022796</td>\n",
       "      <td>0.999023</td>\n",
       "      <td>1.001176</td>\n",
       "      <td>1.015257</td>\n",
       "      <td>0.994099</td>\n",
       "      <td>0.975383</td>\n",
       "      <td>0.995381</td>\n",
       "      <td>0.991461</td>\n",
       "      <td>0.990844</td>\n",
       "    </tr>\n",
       "    <tr>\n",
       "      <th>4</th>\n",
       "      <td>1.003367</td>\n",
       "      <td>1.017942</td>\n",
       "      <td>1.007767</td>\n",
       "      <td>1.030286</td>\n",
       "      <td>1.041171</td>\n",
       "      <td>0.975662</td>\n",
       "      <td>1.022971</td>\n",
       "      <td>1.011972</td>\n",
       "      <td>0.988584</td>\n",
       "      <td>1.015667</td>\n",
       "      <td>...</td>\n",
       "      <td>0.980773</td>\n",
       "      <td>1.014723</td>\n",
       "      <td>0.987174</td>\n",
       "      <td>1.007858</td>\n",
       "      <td>1.026780</td>\n",
       "      <td>0.977350</td>\n",
       "      <td>0.989210</td>\n",
       "      <td>1.013573</td>\n",
       "      <td>0.995105</td>\n",
       "      <td>0.975834</td>\n",
       "    </tr>\n",
       "    <tr>\n",
       "      <th>...</th>\n",
       "      <td>...</td>\n",
       "      <td>...</td>\n",
       "      <td>...</td>\n",
       "      <td>...</td>\n",
       "      <td>...</td>\n",
       "      <td>...</td>\n",
       "      <td>...</td>\n",
       "      <td>...</td>\n",
       "      <td>...</td>\n",
       "      <td>...</td>\n",
       "      <td>...</td>\n",
       "      <td>...</td>\n",
       "      <td>...</td>\n",
       "      <td>...</td>\n",
       "      <td>...</td>\n",
       "      <td>...</td>\n",
       "      <td>...</td>\n",
       "      <td>...</td>\n",
       "      <td>...</td>\n",
       "      <td>...</td>\n",
       "      <td>...</td>\n",
       "    </tr>\n",
       "    <tr>\n",
       "      <th>2516</th>\n",
       "      <td>5.857556</td>\n",
       "      <td>5.555237</td>\n",
       "      <td>4.283350</td>\n",
       "      <td>3.891155</td>\n",
       "      <td>1.435224</td>\n",
       "      <td>2.696482</td>\n",
       "      <td>2.673515</td>\n",
       "      <td>6.286278</td>\n",
       "      <td>3.326906</td>\n",
       "      <td>2.772824</td>\n",
       "      <td>...</td>\n",
       "      <td>5.268093</td>\n",
       "      <td>7.991281</td>\n",
       "      <td>2.152212</td>\n",
       "      <td>2.432198</td>\n",
       "      <td>3.452680</td>\n",
       "      <td>4.357135</td>\n",
       "      <td>12.856375</td>\n",
       "      <td>5.100426</td>\n",
       "      <td>3.765125</td>\n",
       "      <td>2.123364</td>\n",
       "    </tr>\n",
       "    <tr>\n",
       "      <th>2517</th>\n",
       "      <td>5.752936</td>\n",
       "      <td>5.656145</td>\n",
       "      <td>4.309549</td>\n",
       "      <td>3.926963</td>\n",
       "      <td>1.419526</td>\n",
       "      <td>2.709894</td>\n",
       "      <td>2.713073</td>\n",
       "      <td>6.344361</td>\n",
       "      <td>3.334824</td>\n",
       "      <td>2.738401</td>\n",
       "      <td>...</td>\n",
       "      <td>5.217685</td>\n",
       "      <td>7.887993</td>\n",
       "      <td>2.148570</td>\n",
       "      <td>2.407396</td>\n",
       "      <td>3.394756</td>\n",
       "      <td>4.388803</td>\n",
       "      <td>12.638727</td>\n",
       "      <td>5.137469</td>\n",
       "      <td>3.738647</td>\n",
       "      <td>2.151385</td>\n",
       "    </tr>\n",
       "    <tr>\n",
       "      <th>2518</th>\n",
       "      <td>5.692129</td>\n",
       "      <td>5.625450</td>\n",
       "      <td>4.367861</td>\n",
       "      <td>3.892263</td>\n",
       "      <td>1.412986</td>\n",
       "      <td>2.726823</td>\n",
       "      <td>2.722156</td>\n",
       "      <td>6.294734</td>\n",
       "      <td>3.334694</td>\n",
       "      <td>2.711508</td>\n",
       "      <td>...</td>\n",
       "      <td>5.197499</td>\n",
       "      <td>7.842355</td>\n",
       "      <td>2.182290</td>\n",
       "      <td>2.405080</td>\n",
       "      <td>3.364347</td>\n",
       "      <td>4.354691</td>\n",
       "      <td>12.586639</td>\n",
       "      <td>5.218269</td>\n",
       "      <td>3.750583</td>\n",
       "      <td>2.172011</td>\n",
       "    </tr>\n",
       "    <tr>\n",
       "      <th>2519</th>\n",
       "      <td>5.650466</td>\n",
       "      <td>5.574879</td>\n",
       "      <td>4.364820</td>\n",
       "      <td>3.803640</td>\n",
       "      <td>1.418685</td>\n",
       "      <td>2.821349</td>\n",
       "      <td>2.740948</td>\n",
       "      <td>6.257862</td>\n",
       "      <td>3.378140</td>\n",
       "      <td>2.732331</td>\n",
       "      <td>...</td>\n",
       "      <td>5.278069</td>\n",
       "      <td>7.756611</td>\n",
       "      <td>2.190563</td>\n",
       "      <td>2.435253</td>\n",
       "      <td>3.364510</td>\n",
       "      <td>4.383442</td>\n",
       "      <td>12.668889</td>\n",
       "      <td>5.206830</td>\n",
       "      <td>3.774927</td>\n",
       "      <td>2.106776</td>\n",
       "    </tr>\n",
       "    <tr>\n",
       "      <th>2520</th>\n",
       "      <td>5.712569</td>\n",
       "      <td>5.634995</td>\n",
       "      <td>4.279829</td>\n",
       "      <td>3.762609</td>\n",
       "      <td>1.409517</td>\n",
       "      <td>2.873090</td>\n",
       "      <td>2.809591</td>\n",
       "      <td>6.188175</td>\n",
       "      <td>3.306955</td>\n",
       "      <td>2.719932</td>\n",
       "      <td>...</td>\n",
       "      <td>5.127900</td>\n",
       "      <td>7.751226</td>\n",
       "      <td>2.191577</td>\n",
       "      <td>2.442923</td>\n",
       "      <td>3.403599</td>\n",
       "      <td>4.429474</td>\n",
       "      <td>12.994355</td>\n",
       "      <td>5.171100</td>\n",
       "      <td>3.800203</td>\n",
       "      <td>2.140690</td>\n",
       "    </tr>\n",
       "  </tbody>\n",
       "</table>\n",
       "<p>2521 rows × 500 columns</p>\n",
       "</div>"
      ],
      "text/plain": [
       "           0         1         2         3         4         5         6    \\\n",
       "0     1.000000  1.000000  1.000000  1.000000  1.000000  1.000000  1.000000   \n",
       "1     0.999635  0.992493  1.009801  1.002757  1.010604  1.007494  1.001564   \n",
       "2     1.025101  1.001091  1.006179  1.010553  1.035132  0.991837  0.996407   \n",
       "3     1.006313  1.002644  1.011924  1.031862  1.034954  0.985024  1.010945   \n",
       "4     1.003367  1.017942  1.007767  1.030286  1.041171  0.975662  1.022971   \n",
       "...        ...       ...       ...       ...       ...       ...       ...   \n",
       "2516  5.857556  5.555237  4.283350  3.891155  1.435224  2.696482  2.673515   \n",
       "2517  5.752936  5.656145  4.309549  3.926963  1.419526  2.709894  2.713073   \n",
       "2518  5.692129  5.625450  4.367861  3.892263  1.412986  2.726823  2.722156   \n",
       "2519  5.650466  5.574879  4.364820  3.803640  1.418685  2.821349  2.740948   \n",
       "2520  5.712569  5.634995  4.279829  3.762609  1.409517  2.873090  2.809591   \n",
       "\n",
       "           7         8         9    ...       490       491       492  \\\n",
       "0     1.000000  1.000000  1.000000  ...  1.000000  1.000000  1.000000   \n",
       "1     1.007196  0.998753  1.013794  ...  0.990847  1.001694  0.997766   \n",
       "2     0.998898  0.979265  1.008971  ...  0.984307  0.998794  0.999151   \n",
       "3     0.993376  0.975635  1.005228  ...  0.978100  1.022796  0.999023   \n",
       "4     1.011972  0.988584  1.015667  ...  0.980773  1.014723  0.987174   \n",
       "...        ...       ...       ...  ...       ...       ...       ...   \n",
       "2516  6.286278  3.326906  2.772824  ...  5.268093  7.991281  2.152212   \n",
       "2517  6.344361  3.334824  2.738401  ...  5.217685  7.887993  2.148570   \n",
       "2518  6.294734  3.334694  2.711508  ...  5.197499  7.842355  2.182290   \n",
       "2519  6.257862  3.378140  2.732331  ...  5.278069  7.756611  2.190563   \n",
       "2520  6.188175  3.306955  2.719932  ...  5.127900  7.751226  2.191577   \n",
       "\n",
       "           493       494       495        496       497       498       499  \n",
       "0     1.000000  1.000000  1.000000   1.000000  1.000000  1.000000  1.000000  \n",
       "1     0.992365  1.002328  0.988828   0.996498  1.008454  0.993314  0.998334  \n",
       "2     0.999389  1.020459  0.987747   0.977792  1.010012  0.994448  0.986180  \n",
       "3     1.001176  1.015257  0.994099   0.975383  0.995381  0.991461  0.990844  \n",
       "4     1.007858  1.026780  0.977350   0.989210  1.013573  0.995105  0.975834  \n",
       "...        ...       ...       ...        ...       ...       ...       ...  \n",
       "2516  2.432198  3.452680  4.357135  12.856375  5.100426  3.765125  2.123364  \n",
       "2517  2.407396  3.394756  4.388803  12.638727  5.137469  3.738647  2.151385  \n",
       "2518  2.405080  3.364347  4.354691  12.586639  5.218269  3.750583  2.172011  \n",
       "2519  2.435253  3.364510  4.383442  12.668889  5.206830  3.774927  2.106776  \n",
       "2520  2.442923  3.403599  4.429474  12.994355  5.171100  3.800203  2.140690  \n",
       "\n",
       "[2521 rows x 500 columns]"
      ]
     },
     "execution_count": 38,
     "metadata": {},
     "output_type": "execute_result"
    }
   ],
   "source": [
    "# Run the Monte Carlo simulation to forecast 10 years cumulative returns\n",
    "MC_10yr.calc_cumulative_return()\n"
   ]
  },
  {
   "cell_type": "code",
   "execution_count": 39,
   "metadata": {},
   "outputs": [
    {
     "data": {
      "text/plain": [
       "<AxesSubplot:title={'center':'500 Simulations of Cumulative Portfolio Return Trajectories Over the Next 2520 Trading Days.'}>"
      ]
     },
     "execution_count": 39,
     "metadata": {},
     "output_type": "execute_result"
    },
    {
     "data": {
      "image/png": "[encoded data removed]",
      "text/plain": [
       "<Figure size 432x288 with 1 Axes>"
      ]
     },
     "metadata": {
      "needs_background": "light"
     },
     "output_type": "display_data"
    }
   ],
   "source": [
    "# Visualize the 10-year Monte Carlo simulation by creating an\n",
    "# overlay line plot\n",
    "\n",
    "MC_10yr.plot_simulation()"
   ]
  },
  {
   "cell_type": "code",
   "execution_count": 40,
   "metadata": {},
   "outputs": [
    {
     "data": {
      "text/plain": [
       "<AxesSubplot:title={'center':'Distribution of Final Cumuluative Returns Across All 500 Simulations'}, ylabel='Frequency'>"
      ]
     },
     "execution_count": 40,
     "metadata": {},
     "output_type": "execute_result"
    },
    {
     "data": {
      "image/png": "[encoded data removed]",
      "text/plain": [
       "<Figure size 432x288 with 1 Axes>"
      ]
     },
     "metadata": {
      "needs_background": "light"
     },
     "output_type": "display_data"
    }
   ],
   "source": [
    "# Visualize the probability distribution of the 10-year Monte Carlo simulation \n",
    "# by plotting a histogram\n",
    "\n",
    "MC_10yr.plot_distribution()"
   ]
  },
  {
   "cell_type": "code",
   "execution_count": 41,
   "metadata": {},
   "outputs": [
    {
     "name": "stdout",
     "output_type": "stream",
     "text": [
      "count           500.000000\n",
      "mean              4.214103\n",
      "std               2.847647\n",
      "min               0.675163\n",
      "25%               2.314642\n",
      "50%               3.384420\n",
      "75%               5.198515\n",
      "max              22.672913\n",
      "95% CI Lower      1.109211\n",
      "95% CI Upper     12.487099\n",
      "Name: 2520, dtype: float64\n"
     ]
    }
   ],
   "source": [
    "# Generate summary statistics from the 10-year Monte Carlo simulation results\n",
    "# Save the results as a variable\n",
    "MC_10yr_summary_stats=MC_10yr.summarize_cumulative_return()\n",
    "\n",
    "\n",
    "# Review the 10-year Monte Carlo summary statistics\n",
    "print(MC_10yr_summary_stats)"
   ]
  },
  {
   "cell_type": "markdown",
   "metadata": {},
   "source": [
    "### Answer the following questions:"
   ]
  },
  {
   "cell_type": "markdown",
   "metadata": {},
   "source": [
    "#### Question: Using the current value of only the stock and bond portion of the member's portfolio and the summary statistics that you generated from the new Monte Carlo simulation, what are the lower and upper bounds for the expected value of the portfolio (with the new weights) with a 95% confidence interval?"
   ]
  },
  {
   "cell_type": "code",
   "execution_count": 42,
   "metadata": {},
   "outputs": [
    {
     "name": "stdout",
     "output_type": "stream",
     "text": [
      "71913.20000000001\n"
     ]
    }
   ],
   "source": [
    "# Print the current balance of the stock and bond portion of the members portfolio\n",
    "\n",
    "print(total_stocks_bonds)"
   ]
  },
  {
   "cell_type": "code",
   "execution_count": 43,
   "metadata": {},
   "outputs": [
    {
     "name": "stdout",
     "output_type": "stream",
     "text": [
      "There is a 95% chance that over the next 10 years the total stocks & bonds will end within the range of $ 79766.92 and $ 897987.26.\n"
     ]
    }
   ],
   "source": [
    "# Use the lower and upper `95%` confidence intervals to calculate the range of the possible outcomes for the current stock/bond portfolio\n",
    "ci_lower_ten_cumulative_return = MC_10yr_summary_stats[8] * total_stocks_bonds\n",
    "ci_upper_ten_cumulative_return = MC_10yr_summary_stats[9] * total_stocks_bonds\n",
    "\n",
    "# Print the result of your calculations\n",
    "print(f\"There is a 95% chance that over the next 10 years the total stocks & bonds will end within the range of\"\n",
    "      f\" ${ci_lower_ten_cumulative_return: .2f} and ${ci_upper_ten_cumulative_return: .2f}.\")\n"
   ]
  },
  {
   "cell_type": "markdown",
   "metadata": {},
   "source": [
    "#### Question: Will weighting the portfolio more heavily to stocks allow the credit union members to retire after only 10 years?"
   ]
  },
  {
   "cell_type": "raw",
   "metadata": {},
   "source": [
    "**Answer** No"
   ]
  },
  {
   "cell_type": "code",
   "execution_count": null,
   "metadata": {},
   "outputs": [],
   "source": []
  }
 ],
 "metadata": {
  "kernelspec": {
   "display_name": "Python (dev)",
   "language": "python",
   "name": "dev"
  },
  "language_info": {
   "codemirror_mode": {
    "name": "ipython",
    "version": 3
   },
   "file_extension": ".py",
   "mimetype": "text/x-python",
   "name": "python",
   "nbconvert_exporter": "python",
   "pygments_lexer": "ipython3",
   "version": "3.7.7"
  }
 },
 "nbformat": 4,
 "nbformat_minor": 4
}
